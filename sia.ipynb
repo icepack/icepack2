{
 "cells": [
  {
   "cell_type": "code",
   "execution_count": null,
   "id": "39458d2b",
   "metadata": {},
   "outputs": [],
   "source": [
    "import firedrake\n",
    "from firedrake import max_value, sqrt, exp, Constant\n",
    "\n",
    "mesh = firedrake.UnitDiskMesh(5)\n",
    "R = 250e3\n",
    "mesh.coordinates.dat.data[:] *= R\n",
    "\n",
    "cg1 = firedrake.FiniteElement(\"CG\", \"triangle\", 1)\n",
    "Q = firedrake.FunctionSpace(mesh, cg1)"
   ]
  },
  {
   "cell_type": "code",
   "execution_count": null,
   "id": "37c0a916",
   "metadata": {},
   "outputs": [],
   "source": [
    "x, y = firedrake.SpatialCoordinate(mesh)\n",
    "r = sqrt(x**2 + y**2)\n",
    "\n",
    "# Plateau elevation\n",
    "b_base = Constant(400)\n",
    "\n",
    "# Max elevation\n",
    "b_max = Constant(1400)\n",
    "\n",
    "# Radius of the plateau interior\n",
    "ro = 125e3\n",
    "\n",
    "# Radius of the ridge\n",
    "Ro = Constant(200e3)\n",
    "\n",
    "def tanh(z):\n",
    "    return (exp(z) - exp(-z)) / (exp(z) + exp(-z))\n",
    "\n",
    "def θ(z):\n",
    "    return (tanh(z) + 1) / 2\n",
    "\n",
    "def sech(z):\n",
    "    return 2 / (exp(z) + exp(-z))\n",
    "\n",
    "a = Constant(50e3)\n",
    "ξ = (sqrt(x**2 + y**2) - ro) / a\n",
    "ζ = (r - Ro) / Ro\n",
    "\n",
    "ρ1 = Constant(1 / 4)\n",
    "μ1 = 1 - ρ1 * θ(3 * (x - ro / 4) / a) * sech(2 * y / a)\n",
    "\n",
    "ρ2 = Constant(3 / 8)\n",
    "μ2 = 1 - ρ2 * θ(3 * (y - ro / 4) / a) * sech(2 * x / a)\n",
    "\n",
    "ρ3 = Constant(1 / 2)\n",
    "μ3 = 1 - ρ3 * θ(3 * (-x + ro / 4) / a) * sech(2 * y / a)\n",
    "\n",
    "ρ4 = Constant(5 / 8)\n",
    "μ4 = 1 - ρ4 * θ(3 * (-y + ro / 4) / a) * sech(2 * x / a)\n",
    "\n",
    "μ = μ1 * μ2 * μ3 * μ4\n",
    "\n",
    "S = 480 / (1 - Ro / R)\n",
    "\n",
    "b_expr_plateau = b_base * (1 - θ(3 * ξ))\n",
    "b_expr_valleys = (b_max - b_base) * sech(3 * ξ) * μ - θ(5 * ζ) * S * ζ\n",
    "b_expr = max_value(0, b_expr_plateau + b_expr_valleys)\n",
    "b = firedrake.interpolate(b_expr, Q)"
   ]
  },
  {
   "cell_type": "code",
   "execution_count": null,
   "id": "b5175558",
   "metadata": {},
   "outputs": [],
   "source": [
    "import matplotlib.pyplot as plt\n",
    "from mpl_toolkits import mplot3d\n",
    "\n",
    "fig, ax = plt.subplots(subplot_kw={\"projection\": \"3d\"})\n",
    "firedrake.trisurf(b, axes=ax);"
   ]
  },
  {
   "cell_type": "code",
   "execution_count": null,
   "id": "8ac1c823",
   "metadata": {},
   "outputs": [],
   "source": [
    "max_radius = Constant(195e3)\n",
    "dome_height = Constant(2.4e3)\n",
    "dome = dome_height * max_value(1 - (x**2 + y**2) / max_radius**2, 0)\n",
    "s = firedrake.interpolate(dome, Q)"
   ]
  },
  {
   "cell_type": "code",
   "execution_count": null,
   "id": "f078e8ae",
   "metadata": {},
   "outputs": [],
   "source": [
    "h = firedrake.interpolate(s - b, Q)\n",
    "h_0 = h.copy(deepcopy=True)"
   ]
  },
  {
   "cell_type": "code",
   "execution_count": null,
   "id": "943f5665",
   "metadata": {},
   "outputs": [],
   "source": [
    "b3 = firedrake.FiniteElement(\"B\", \"triangle\", 3)\n",
    "V = firedrake.VectorFunctionSpace(mesh, cg1 + b3)"
   ]
  },
  {
   "cell_type": "code",
   "execution_count": null,
   "id": "307a134e",
   "metadata": {},
   "outputs": [],
   "source": [
    "import icepack\n",
    "from icepack.constants import gravity as g, ice_density as ρ_I\n",
    "from firedrake import inner, grad, dx\n",
    "\n",
    "T = Constant(260.0)\n",
    "A = icepack.rate_factor(T)\n",
    "n = Constant(3.0)\n",
    "\n",
    "u = firedrake.Function(V)\n",
    "v = firedrake.TestFunction(V)\n",
    "\n",
    "mass = inner(u, v) * dx\n",
    "P = ρ_I * g * h\n",
    "S_n = inner(grad(s), grad(s))**((n - 1) / 2)\n",
    "gravity = 2 * A * P ** n / (n + 2) * h * S_n * inner(grad(s), v) * dx\n",
    "F = mass + gravity"
   ]
  },
  {
   "cell_type": "code",
   "execution_count": null,
   "id": "8df4a2ac",
   "metadata": {},
   "outputs": [],
   "source": [
    "solver_params = {\"snes_type\": \"ksponly\", \"ksp_type\": \"gmres\"}\n",
    "fc_params = {\"quadrature_degree\": 6}\n",
    "params = {\"solver_parameters\": solver_params, \"form_compiler_parameters\": fc_params}\n",
    "firedrake.solve(F == 0, u, **params)"
   ]
  },
  {
   "cell_type": "code",
   "execution_count": null,
   "id": "35887a09",
   "metadata": {},
   "outputs": [],
   "source": [
    "fig, ax = plt.subplots()\n",
    "ax.set_aspect(\"equal\")\n",
    "colors = firedrake.tripcolor(firedrake.project(sqrt(inner(u, u)), Q), axes=ax)\n",
    "fig.colorbar(colors);"
   ]
  },
  {
   "cell_type": "code",
   "execution_count": null,
   "id": "6a2047f8",
   "metadata": {},
   "outputs": [],
   "source": [
    "Z = Q * V * V\n",
    "z = firedrake.Function(Z)\n",
    "z_n = firedrake.Function(Z)\n",
    "\n",
    "z.sub(0).interpolate(s - b)\n",
    "z.sub(1).assign(u)\n",
    "z.sub(2).project(h * u)\n",
    "\n",
    "z_n.assign(z);"
   ]
  },
  {
   "cell_type": "code",
   "execution_count": null,
   "id": "fa7057f9",
   "metadata": {},
   "outputs": [],
   "source": [
    "h, u, q = firedrake.split(z)\n",
    "h_n = firedrake.split(z_n)[0]\n",
    "η, v, w = firedrake.TestFunctions(Z)\n",
    "\n",
    "dt = firedrake.Constant(10.0)\n",
    "\n",
    "s = b + h\n",
    "F_h = ((h - h_n) * η - dt * inner(q, grad(η))) * dx\n",
    "P = ρ_I * g * h\n",
    "# TODO: look at the codegen when we break up this computation differently\n",
    "S_n = inner(grad(s), grad(s))**((n - 1) / 2)\n",
    "F_u = inner(u + 2 * A * P**n / (n + 2) * h * S_n * grad(s), v) * dx\n",
    "F_q = inner(q - h * u, w) * dx\n",
    "\n",
    "F = F_h + F_u + F_q\n",
    "\n",
    "problem = firedrake.NonlinearVariationalProblem(F, z)\n",
    "params = {\n",
    "    \"solver_parameters\": {\n",
    "        \"snes_type\": \"ksponly\",\n",
    "        \"ksp_type\": \"gmres\",\n",
    "        \"pc_type\": \"lu\",\n",
    "        \"pc_factor_mat_solver_type\": \"mumps\",\n",
    "    }\n",
    "}\n",
    "solver = firedrake.NonlinearVariationalSolver(problem, **params)"
   ]
  },
  {
   "cell_type": "code",
   "execution_count": null,
   "id": "c15784fc",
   "metadata": {},
   "outputs": [],
   "source": [
    "import tqdm\n",
    "\n",
    "hs = [z.sub(0).copy(deepcopy=True)]\n",
    "\n",
    "final_time = 10e3\n",
    "num_steps = int(final_time / float(dt))\n",
    "for step in tqdm.trange(num_steps):\n",
    "    solver.solve()\n",
    "    z.sub(0).interpolate(max_value(0, z.sub(0)))\n",
    "    z_n.assign(z)\n",
    "    hs.append(z.sub(0).copy(deepcopy=True))"
   ]
  },
  {
   "cell_type": "code",
   "execution_count": null,
   "id": "7c306b1d",
   "metadata": {},
   "outputs": [],
   "source": [
    "h, u, q = z.split()\n",
    "h.dat.data_ro.min(), h.dat.data_ro.max()"
   ]
  },
  {
   "cell_type": "code",
   "execution_count": null,
   "id": "10c8eafa",
   "metadata": {},
   "outputs": [],
   "source": [
    "fig, ax = plt.subplots()\n",
    "ax.set_aspect(\"equal\")\n",
    "colors = firedrake.tripcolor(h, axes=ax)\n",
    "fig.colorbar(colors);"
   ]
  },
  {
   "cell_type": "code",
   "execution_count": null,
   "id": "e71f5860",
   "metadata": {},
   "outputs": [],
   "source": [
    "initial_volume = firedrake.assemble(h_0 * dx) / 1e9\n",
    "volume = firedrake.assemble(h * dx) / 1e9\n",
    "print(f\"Initial volume:  {initial_volume:g}km³\")\n",
    "print(f\"Final volume:    {volume:g}km³\")\n",
    "print(f\"Relative change: {(volume - initial_volume) / initial_volume}\")"
   ]
  },
  {
   "cell_type": "code",
   "execution_count": null,
   "id": "d5b4b8b1",
   "metadata": {},
   "outputs": [],
   "source": [
    "from firedrake.plot import FunctionPlotter\n",
    "fn_plotter = FunctionPlotter(mesh, num_sample_points=1)"
   ]
  },
  {
   "cell_type": "code",
   "execution_count": null,
   "id": "8eed28f0",
   "metadata": {},
   "outputs": [],
   "source": [
    "%%capture\n",
    "fig, axes = plt.subplots()\n",
    "axes.set_aspect(\"equal\")\n",
    "axes.get_xaxis().set_visible(False)\n",
    "axes.get_yaxis().set_visible(False)\n",
    "colors = firedrake.tripcolor(\n",
    "    hs[0], num_sample_points=1, vmin=0, vmax=2e3, shading=\"gouraud\", axes=axes\n",
    ")\n",
    "\n",
    "from matplotlib.animation import FuncAnimation\n",
    "def animate(h):\n",
    "    colors.set_array(fn_plotter(h))\n",
    "\n",
    "interval = 1e3 / 25\n",
    "animation = FuncAnimation(fig, animate, frames=hs, interval=interval)"
   ]
  },
  {
   "cell_type": "code",
   "execution_count": null,
   "id": "13fdc575",
   "metadata": {},
   "outputs": [],
   "source": [
    "from IPython.display import HTML\n",
    "HTML(animation.to_html5_video())"
   ]
  }
 ],
 "metadata": {
  "kernelspec": {
   "display_name": "firedrake",
   "language": "python",
   "name": "firedrake"
  },
  "language_info": {
   "codemirror_mode": {
    "name": "ipython",
    "version": 3
   },
   "file_extension": ".py",
   "mimetype": "text/x-python",
   "name": "python",
   "nbconvert_exporter": "python",
   "pygments_lexer": "ipython3",
   "version": "3.10.6"
  }
 },
 "nbformat": 4,
 "nbformat_minor": 5
}
