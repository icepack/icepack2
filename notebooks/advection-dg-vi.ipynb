{
 "cells": [
  {
   "cell_type": "code",
   "execution_count": null,
   "id": "544863ef-7027-4527-8a60-55a908437e52",
   "metadata": {
    "tags": []
   },
   "outputs": [],
   "source": [
    "import numpy as np\n",
    "from numpy import pi as π\n",
    "import matplotlib.pyplot as plt\n",
    "from matplotlib.animation import FuncAnimation\n",
    "from IPython.display import HTML\n",
    "from tqdm.notebook import tqdm, trange\n",
    "import firedrake\n",
    "from firedrake import inner, grad, dx, ds, dS, jump, max_value, Constant\n",
    "import irksome\n",
    "from irksome import Dt"
   ]
  },
  {
   "cell_type": "code",
   "execution_count": null,
   "id": "fc5fad61-1cb9-42ec-9940-a69a950314a2",
   "metadata": {
    "tags": []
   },
   "outputs": [],
   "source": [
    "num_levels = 5\n",
    "mesh = firedrake.UnitDiskMesh(num_levels)\n",
    "bernstein = firedrake.FiniteElement(\"Bernstein\", \"triangle\", 2)\n",
    "bernstein_dg = firedrake.BrokenElement(bernstein)\n",
    "Q = firedrake.FunctionSpace(mesh, bernstein_dg)"
   ]
  },
  {
   "cell_type": "code",
   "execution_count": null,
   "id": "2d57b4eb-a09a-4dca-8613-b88bf6422a11",
   "metadata": {
    "tags": []
   },
   "outputs": [],
   "source": [
    "x = firedrake.SpatialCoordinate(mesh)\n",
    "u = firedrake.as_vector((-x[1], x[0]))"
   ]
  },
  {
   "cell_type": "markdown",
   "id": "f51dfe83-4c4b-4ce6-ba90-94e9b148e030",
   "metadata": {},
   "source": [
    "Create the initial data -- a spherical blip of radius 1/3 centered at the point (0.5, 0.0)."
   ]
  },
  {
   "cell_type": "code",
   "execution_count": null,
   "id": "18133fa0-051f-416b-9d79-4c4f19174f03",
   "metadata": {
    "tags": []
   },
   "outputs": [],
   "source": [
    "ξ = Constant((0.5, 0.0))\n",
    "r = Constant(1 / 3)\n",
    "expr = max_value(0, 1 - inner(x - ξ, x - ξ) / r**2)\n",
    "ϕ = firedrake.project(expr, Q)"
   ]
  },
  {
   "cell_type": "code",
   "execution_count": null,
   "id": "6007b63f-433a-40a9-b039-79acf24f65d8",
   "metadata": {
    "tags": []
   },
   "outputs": [],
   "source": [
    "fig, ax = plt.subplots()\n",
    "ax.set_aspect(\"equal\")\n",
    "colors = firedrake.tripcolor(ϕ, axes=ax)\n",
    "fig.colorbar(colors);"
   ]
  },
  {
   "cell_type": "markdown",
   "id": "919358ed-e538-42c1-874c-c775b4dbd4ff",
   "metadata": {},
   "source": [
    "The sink term will be a spherical blob of radius 1/6 centered at the point (-0.5, 0)."
   ]
  },
  {
   "cell_type": "code",
   "execution_count": null,
   "id": "ae062579-ee6a-46d9-97f6-523d81aad248",
   "metadata": {
    "tags": []
   },
   "outputs": [],
   "source": [
    "a_0 = Constant(10.0)\n",
    "ζ = Constant((-0.5, 0.0))\n",
    "ρ = Constant(1 / 6)\n",
    "expr = -a_0 * max_value(0, 1 - inner(x - ζ, x - ζ) / ρ**2)\n",
    "a = firedrake.project(expr, Q)"
   ]
  },
  {
   "cell_type": "markdown",
   "id": "3196784b-30bd-488e-909b-e4a8e790139a",
   "metadata": {},
   "source": [
    "Create the variational form of the advection equation.\n",
    "This step is the main difference between the present and the previous example.\n",
    "Here we need to include the interface jump terms because the basis functions are discontinuous."
   ]
  },
  {
   "cell_type": "code",
   "execution_count": null,
   "id": "d5c08756-21ab-402a-91c4-2fe889e8011d",
   "metadata": {
    "tags": []
   },
   "outputs": [],
   "source": [
    "ψ = firedrake.TestFunction(Q)\n",
    "F_1 = (Dt(ϕ) * ψ - inner(ϕ * u, grad(ψ)) - a * ψ) * dx\n",
    "ν = firedrake.FacetNormal(mesh)\n",
    "f = ϕ * firedrake.max_value(0, inner(u, ν))\n",
    "F_2 = jump(ϕ) * jump(ψ) * dS\n",
    "F = F_1 + F_2"
   ]
  },
  {
   "cell_type": "markdown",
   "id": "99bd5c8a-bab1-4603-b355-d496498feb1c",
   "metadata": {},
   "source": [
    "Create the bounds constraints and the solver; this is all the same as before."
   ]
  },
  {
   "cell_type": "code",
   "execution_count": null,
   "id": "770b7ad2-22c3-48b4-8b00-550ff51605e7",
   "metadata": {},
   "outputs": [],
   "source": [
    "t = Constant(0.0)\n",
    "num_steps = 512\n",
    "dt = Constant(2 * π / num_steps)\n",
    "\n",
    "lower = firedrake.Function(Q)\n",
    "upper = firedrake.Function(Q)\n",
    "upper.assign(+np.inf)\n",
    "bounds = (\"stage\", lower, upper)\n",
    "\n",
    "params = {\n",
    "    \"solver_parameters\": {\"snes_type\": \"vinewtonrsls\"},\n",
    "    \"stage_type\": \"value\",\n",
    "    \"basis_type\": \"Bernstein\",\n",
    "    \"bounds\": bounds,\n",
    "}\n",
    "\n",
    "method = irksome.RadauIIA(2)\n",
    "solver = irksome.TimeStepper(F, method, t, dt, ϕ, **params)"
   ]
  },
  {
   "cell_type": "markdown",
   "id": "80c51440-8a5b-4a03-943d-691b56efe738",
   "metadata": {},
   "source": [
    "Run the simulation."
   ]
  },
  {
   "cell_type": "code",
   "execution_count": null,
   "id": "2eb8642f-ce51-4a57-bfdb-42810c9f5987",
   "metadata": {
    "tags": []
   },
   "outputs": [],
   "source": [
    "ϕs = [ϕ.copy(deepcopy=True)]\n",
    "\n",
    "for step in trange(num_steps):\n",
    "    solver.advance()\n",
    "    t.assign(float(t) + float(dt))\n",
    "    ϕs.append(ϕ.copy(deepcopy=True))"
   ]
  },
  {
   "cell_type": "markdown",
   "id": "357c9e61-1f04-4e58-ad4f-2adfeff03418",
   "metadata": {},
   "source": [
    "Make an animation of the solution."
   ]
  },
  {
   "cell_type": "code",
   "execution_count": null,
   "id": "09bb280b-f897-4776-bfb6-732cff3a0148",
   "metadata": {},
   "outputs": [],
   "source": [
    "%%capture\n",
    "fig, ax = plt.subplots()\n",
    "ax.set_aspect(\"equal\")\n",
    "colors = firedrake.tripcolor(\n",
    "    ϕs[0], vmin=0.0, vmax=1.0, num_sample_points=4, axes=ax\n",
    ")\n",
    "\n",
    "fn_plotter = firedrake.FunctionPlotter(mesh, num_sample_points=4)\n",
    "def animate(ϕ):\n",
    "    colors.set_array(fn_plotter(ϕ))"
   ]
  },
  {
   "cell_type": "code",
   "execution_count": null,
   "id": "ff9062a5-86ef-4641-930c-357667ccbe5c",
   "metadata": {},
   "outputs": [],
   "source": [
    "interval = 1e3 * 20 / num_steps\n",
    "animation = FuncAnimation(fig, animate, frames=tqdm(ϕs), interval=interval)"
   ]
  },
  {
   "cell_type": "code",
   "execution_count": null,
   "id": "0da8a8c3-7fb0-46ac-8eb2-d08e850838f1",
   "metadata": {
    "tags": []
   },
   "outputs": [],
   "source": [
    "HTML(animation.to_html5_video())"
   ]
  },
  {
   "cell_type": "markdown",
   "id": "7c19734f-3269-4493-a772-d5a612bca2ea",
   "metadata": {},
   "source": [
    "Half-way through the simulation, the initial blob advects into the sink.\n",
    "But by posing the problem as a variational inequality, we can make sure the solution does not go negative.\n",
    "This is especially important in some physics problems where there are sinks that can remove mass from the system but where the key solution variable can't go negative.\n",
    "Example 1: the solution variable represents the thickness of a glacier.\n",
    "The ice can melt with sufficient solar heating, but the thickness of the glacier can't go negative.\n",
    "Example 2: the solution variable represents the thickness of liquid water, e.g. from rainfall, flowing over a landscape.\n",
    "This water can infiltrate into the subsurface aquifer, but the thickness of the surface water layer likewise can't go negative."
   ]
  },
  {
   "cell_type": "code",
   "execution_count": null,
   "id": "850aae2c-e9f5-4640-bcb0-5bfc974ce2cf",
   "metadata": {},
   "outputs": [],
   "source": [
    "volumes = [firedrake.assemble(ϕ * dx) for ϕ in ϕs]\n",
    "fig, ax = plt.subplots()\n",
    "ax.plot(volumes);"
   ]
  },
  {
   "cell_type": "markdown",
   "id": "519ae499-d611-44ae-9484-dcceca2a2124",
   "metadata": {},
   "source": [
    "The DG scheme also has a small spurious mass gain, here only of the order of 0.3% instead of 0.9% for the CG scheme."
   ]
  },
  {
   "cell_type": "code",
   "execution_count": null,
   "id": "376bd9ce-d955-42c0-9b95-9c4ba101d0a2",
   "metadata": {},
   "outputs": [],
   "source": [
    "(volumes[150] - volumes[0]) / volumes[0]"
   ]
  }
 ],
 "metadata": {
  "kernelspec": {
   "display_name": "firedrake",
   "language": "python",
   "name": "firedrake"
  },
  "language_info": {
   "codemirror_mode": {
    "name": "ipython",
    "version": 3
   },
   "file_extension": ".py",
   "mimetype": "text/x-python",
   "name": "python",
   "nbconvert_exporter": "python",
   "pygments_lexer": "ipython3",
   "version": "3.12.8"
  }
 },
 "nbformat": 4,
 "nbformat_minor": 5
}
