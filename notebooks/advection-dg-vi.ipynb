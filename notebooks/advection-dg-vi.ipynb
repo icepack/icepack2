{
 "cells": [
  {
   "cell_type": "code",
   "execution_count": null,
   "id": "544863ef-7027-4527-8a60-55a908437e52",
   "metadata": {
    "tags": []
   },
   "outputs": [],
   "source": [
    "from numpy import pi as π\n",
    "import matplotlib.pyplot as plt\n",
    "from matplotlib.animation import FuncAnimation\n",
    "from IPython.display import HTML\n",
    "import tqdm\n",
    "import firedrake\n",
    "from firedrake import inner, grad, dx, ds, dS, max_value, Constant\n",
    "import irksome\n",
    "from irksome import Dt"
   ]
  },
  {
   "cell_type": "code",
   "execution_count": null,
   "id": "fc5fad61-1cb9-42ec-9940-a69a950314a2",
   "metadata": {
    "tags": []
   },
   "outputs": [],
   "source": [
    "num_levels = 5\n",
    "mesh = firedrake.UnitDiskMesh(num_levels)\n",
    "bernstein = firedrake.FiniteElement(\"Bernstein\", \"triangle\", 2)\n",
    "bernstein_dg = firedrake.BrokenElement(bernstein)\n",
    "Q = firedrake.FunctionSpace(mesh, bernstein_dg)"
   ]
  },
  {
   "cell_type": "code",
   "execution_count": null,
   "id": "2d57b4eb-a09a-4dca-8613-b88bf6422a11",
   "metadata": {
    "tags": []
   },
   "outputs": [],
   "source": [
    "x = firedrake.SpatialCoordinate(mesh)\n",
    "u = firedrake.as_vector((-x[1], x[0]))"
   ]
  },
  {
   "cell_type": "markdown",
   "id": "f51dfe83-4c4b-4ce6-ba90-94e9b148e030",
   "metadata": {},
   "source": [
    "Create the initial data -- a spherical blip of radius 1/3 centered at the point (0.5, 0.0)."
   ]
  },
  {
   "cell_type": "code",
   "execution_count": null,
   "id": "18133fa0-051f-416b-9d79-4c4f19174f03",
   "metadata": {
    "tags": []
   },
   "outputs": [],
   "source": [
    "ξ = Constant((0.5, 0.0))\n",
    "r = Constant(1 / 3)\n",
    "expr = max_value(0, 1 - inner(x - ξ, x - ξ) / r**2)\n",
    "ϕ_ = firedrake.project(expr, Q)"
   ]
  },
  {
   "cell_type": "code",
   "execution_count": null,
   "id": "6007b63f-433a-40a9-b039-79acf24f65d8",
   "metadata": {
    "tags": []
   },
   "outputs": [],
   "source": [
    "fig, ax = plt.subplots()\n",
    "ax.set_aspect(\"equal\")\n",
    "colors = firedrake.tripcolor(ϕ_, axes=ax)\n",
    "fig.colorbar(colors);"
   ]
  },
  {
   "cell_type": "markdown",
   "id": "919358ed-e538-42c1-874c-c775b4dbd4ff",
   "metadata": {},
   "source": [
    "The sink term will be a spherical blob of radius 1/6 centered at the point (-0.5, 0)."
   ]
  },
  {
   "cell_type": "code",
   "execution_count": null,
   "id": "ae062579-ee6a-46d9-97f6-523d81aad248",
   "metadata": {
    "tags": []
   },
   "outputs": [],
   "source": [
    "a_0 = Constant(10.0)\n",
    "ζ = Constant((-0.5, 0.0))\n",
    "ρ = Constant(1 / 6)\n",
    "expr = -a_0 * max_value(0, 1 - inner(x - ζ, x - ζ) / ρ**2)\n",
    "a = firedrake.project(expr, Q)"
   ]
  },
  {
   "cell_type": "markdown",
   "id": "3196784b-30bd-488e-909b-e4a8e790139a",
   "metadata": {},
   "source": [
    "Create the variational form of the advection equation."
   ]
  },
  {
   "cell_type": "code",
   "execution_count": null,
   "id": "d5c08756-21ab-402a-91c4-2fe889e8011d",
   "metadata": {
    "tags": []
   },
   "outputs": [],
   "source": [
    "ψ = firedrake.TestFunction(Q)\n",
    "F_1 = (Dt(ϕ_) * ψ - inner(ϕ_ * u, grad(ψ)) - a * ψ) * dx\n",
    "ν = firedrake.FacetNormal(mesh)\n",
    "u_n = firedrake.max_value(0, inner(u, ν))\n",
    "F_2 = (ϕ_(\"+\") * u_n(\"+\") - ϕ_(\"-\") * u_n(\"-\")) * (ψ(\"+\") - ψ(\"-\")) * dS\n",
    "F = F_1 + F_2\n",
    "\n",
    "t = Constant(0.0)\n",
    "num_steps = 512\n",
    "dt = Constant(2 * π / num_steps)"
   ]
  },
  {
   "cell_type": "markdown",
   "id": "ff539788-cf30-4b83-b5c6-6b055a5d4be4",
   "metadata": {},
   "source": [
    "Get the form and stages for the Lobatto-IIIC time discretization of this problem from Irksome.\n",
    "Next get the test functions used in that form.\n",
    "We'll need to add an extra term to the form that includes the next solution value explicitly, and that will mean replacing the stage variables and test functions using the `firedrake.replace` function."
   ]
  },
  {
   "cell_type": "code",
   "execution_count": null,
   "id": "5a2e2db0-259e-4ac6-b410-dfec3217f22d",
   "metadata": {
    "tags": []
   },
   "outputs": [],
   "source": [
    "tableau = irksome.LobattoIIIC(2)\n",
    "old_form, old_stages, bcs, nullspaces, bcdata = irksome.getForm(F, tableau, t, dt, ϕ_)\n",
    "old_test_fns = firedrake.split(old_form.arguments()[0])"
   ]
  },
  {
   "cell_type": "markdown",
   "id": "07fdb2a7-fd4d-41b5-8462-fc5e4232c4de",
   "metadata": {},
   "source": [
    "**Heads up: this is the important part.**\n",
    "So the value of the solution at the next timestep is\n",
    "$$\\phi_{n + 1} = \\phi_n + \\delta t\\cdot \\sum_i\\beta_ik_i$$\n",
    "where $\\{k_i\\}$ are the stages of the RK method.\n",
    "We want to enforce the inequality constraint that $\\phi_{n + 1} \\ge 0$, keeping in mind that we're solving for the stages $\\{k_i\\}$.\n",
    "Mathematically, there's nothing wrong with this inequality constraint as such.\n",
    "PETSc, however, only allows us to do *box* constraints -- inequality constraints of the form $u_1 \\le u \\le u_2$.\n",
    "Ours is of the more general form $u_1 \\le Au + f \\le u_2$, i.e. there's a linear transformation in there albeit a pretty trivial one.\n",
    "\n",
    "The way out of the dilemma is that we need to add $\\phi_{n + 1}$ explicitly as an unknown to the problem and solve simultaneously for it along with the RK stages.\n",
    "We'll enforce both the equality constraint that $\\phi_{n + 1} = \\phi_n + \\delta t\\cdot \\sum_i\\beta_ik_i$ along with the inequality constraint $\\phi_{n + 1} \\ge 0$, which is now a simple box constraint.\n",
    "\n",
    "To make the fix, what we'll do is first create a new function space $Z$ where we stack an extra copy $Q$ of the solution space where $\\phi_{n + 1}$ lives onto the (mixed) function space $S$ where all the stages live."
   ]
  },
  {
   "cell_type": "code",
   "execution_count": null,
   "id": "d867455d-f6e4-44e7-ae96-8a9d80d02fd9",
   "metadata": {
    "tags": []
   },
   "outputs": [],
   "source": [
    "S = old_stages.function_space()\n",
    "Z = Q * S"
   ]
  },
  {
   "cell_type": "markdown",
   "id": "e141485c-e3e3-456c-a251-afc83dd0f54f",
   "metadata": {},
   "source": [
    "Then we get a new function from the expanded solution $\\times$ stages space $Z$ and a set of test functions.\n",
    "Split them into the solution and stages parts."
   ]
  },
  {
   "cell_type": "code",
   "execution_count": null,
   "id": "fb242dd6-9002-448a-b7b4-d9a48c2bd0ab",
   "metadata": {},
   "outputs": [],
   "source": [
    "zs = firedrake.Function(Z)\n",
    "soln_stages = firedrake.split(zs)\n",
    "ws = firedrake.TestFunctions(Z)\n",
    "\n",
    "ϕ, new_stages = soln_stages[0], soln_stages[1:]\n",
    "ψ, new_test_fns = ws[0], ws[1:]"
   ]
  },
  {
   "cell_type": "markdown",
   "id": "b4010e44-52f8-458f-8f8a-4d38c5b336ff",
   "metadata": {},
   "source": [
    "Ok and here's the real crux of the problem.\n",
    "Create some dictionaries to help us map the old solution and stages into the new joint solution $\\times$ stage variables."
   ]
  },
  {
   "cell_type": "code",
   "execution_count": null,
   "id": "ee70d8ce-6c61-4c35-9e30-f2d84765cfe4",
   "metadata": {},
   "outputs": [],
   "source": [
    "stage_dict = {k_old: k_new for k_old, k_new in zip(old_stages, new_stages)}\n",
    "test_fn_dict = {q_old: q_new for q_old, q_new in zip(old_test_fns, new_test_fns)}"
   ]
  },
  {
   "cell_type": "markdown",
   "id": "6b2176b3-0508-4264-97ad-03f1e783fce4",
   "metadata": {},
   "source": [
    "Create a new part of the form (which we'll call `soln_form`) to represent the constraint that the next value of the solution is\n",
    "$$\\phi_{n + 1} = \\phi_n + \\delta t\\sum_s\\beta_sk_s$$\n",
    "and add it to the old form."
   ]
  },
  {
   "cell_type": "code",
   "execution_count": null,
   "id": "e1ba31cf-1ea5-4bdc-910c-8ca225c22b28",
   "metadata": {},
   "outputs": [],
   "source": [
    "soln_form = (ϕ - (ϕ_ + dt * sum(β * k for β, k in zip(tableau.b, new_stages)))) * ψ * dx\n",
    "form = soln_form + firedrake.replace(old_form, {**stage_dict, **test_fn_dict})"
   ]
  },
  {
   "cell_type": "markdown",
   "id": "149fd2db-4e21-496e-a59d-6276901029c1",
   "metadata": {},
   "source": [
    "Create some functions to hold the upper and lower bounds for the solution.\n",
    "All of them have an upper bound of $\\infty$ while the next value of the solution has a lower bound of 0."
   ]
  },
  {
   "cell_type": "code",
   "execution_count": null,
   "id": "0509e91a-e9a8-432b-9f98-aa2765c3ad7a",
   "metadata": {},
   "outputs": [],
   "source": [
    "from firedrake.petsc import PETSc\n",
    "\n",
    "upper = firedrake.Function(Z)\n",
    "with upper.dat.vec as upper_vec:\n",
    "    upper_vec.set(PETSc.INFINITY)\n",
    "\n",
    "lower = firedrake.Function(Z)\n",
    "with lower.dat.vec as lower_vec:\n",
    "    lower_vec.set(PETSc.NINFINITY)\n",
    "\n",
    "with lower.sub(0).dat.vec as lower_vec:\n",
    "    lower_vec.set(0.0)"
   ]
  },
  {
   "cell_type": "markdown",
   "id": "99bd5c8a-bab1-4603-b355-d496498feb1c",
   "metadata": {},
   "source": [
    "Create the solver and a list of variables to store the solution at every timestep.\n",
    "\n",
    "**Aside**: PETSc has two VI solvers -- a semi-smooth Newton solver `vinewtonssls` and an active-set solver `vinewtonrsls`.\n",
    "The semi-smooth Newton solver crashes pretty early on."
   ]
  },
  {
   "cell_type": "code",
   "execution_count": null,
   "id": "770b7ad2-22c3-48b4-8b00-550ff51605e7",
   "metadata": {},
   "outputs": [],
   "source": [
    "params = {\n",
    "    \"mat_type\": \"aij\",\n",
    "    \"snes_type\": \"vinewtonrsls\",\n",
    "    \"ksp_type\": \"gmres\",\n",
    "    \"pc_type\": \"ilu\",\n",
    "}\n",
    "problem = firedrake.NonlinearVariationalProblem(form, zs)\n",
    "solver = firedrake.NonlinearVariationalSolver(problem, solver_parameters=params)"
   ]
  },
  {
   "cell_type": "code",
   "execution_count": null,
   "id": "e6fc6734-e582-49a7-a047-47ab87d0f65e",
   "metadata": {},
   "outputs": [],
   "source": [
    "ϕs = [ϕ_.copy(deepcopy=True)]"
   ]
  },
  {
   "cell_type": "markdown",
   "id": "f61e231a-de34-4333-9ce2-0bf37d4367de",
   "metadata": {},
   "source": [
    "Solve the problem forward in time.\n",
    "We're using the variable `ϕ_` to store the old value of the solution; we have to explicitly assign it the newly-computed value at the end of each timestep now."
   ]
  },
  {
   "cell_type": "code",
   "execution_count": null,
   "id": "2eb8642f-ce51-4a57-bfdb-42810c9f5987",
   "metadata": {
    "tags": []
   },
   "outputs": [],
   "source": [
    "for step in tqdm.trange(num_steps):\n",
    "    solver.solve(bounds=(lower, upper))\n",
    "    t.assign(float(t) + float(dt))\n",
    "    ϕ = zs.subfunctions[0]\n",
    "    ϕ_.assign(ϕ)\n",
    "    ϕs.append(ϕ.copy(deepcopy=True))"
   ]
  },
  {
   "cell_type": "markdown",
   "id": "357c9e61-1f04-4e58-ad4f-2adfeff03418",
   "metadata": {},
   "source": [
    "Make an animation of the solution."
   ]
  },
  {
   "cell_type": "code",
   "execution_count": null,
   "id": "09bb280b-f897-4776-bfb6-732cff3a0148",
   "metadata": {},
   "outputs": [],
   "source": [
    "%%capture\n",
    "fig, ax = plt.subplots()\n",
    "ax.set_aspect(\"equal\")\n",
    "colors = firedrake.tripcolor(\n",
    "    ϕs[0], vmin=0.0, vmax=1.0, num_sample_points=4, axes=ax\n",
    ")\n",
    "\n",
    "fn_plotter = firedrake.FunctionPlotter(mesh, num_sample_points=4)\n",
    "def animate(ϕ):\n",
    "    colors.set_array(fn_plotter(ϕ))\n",
    "\n",
    "interval = 1e3 * 20 / num_steps\n",
    "animation = FuncAnimation(fig, animate, frames=ϕs, interval=interval)"
   ]
  },
  {
   "cell_type": "code",
   "execution_count": null,
   "id": "0da8a8c3-7fb0-46ac-8eb2-d08e850838f1",
   "metadata": {
    "tags": []
   },
   "outputs": [],
   "source": [
    "HTML(animation.to_html5_video())"
   ]
  },
  {
   "cell_type": "markdown",
   "id": "7c19734f-3269-4493-a772-d5a612bca2ea",
   "metadata": {},
   "source": [
    "Half-way through the simulation, the initial blob advects into the sink.\n",
    "But by posing the problem as a variational inequality, we can make sure the solution does not go negative.\n",
    "This is especially important in some physics problems where there are sinks that can remove mass from the system but where the key solution variable can't go negative.\n",
    "Example 1: the solution variable represents the thickness of a glacier.\n",
    "The ice can melt with sufficient solar heating, but the thickness of the glacier can't go negative.\n",
    "Example 2: the solution variable represents the thickness of liquid water, e.g. from rainfall, flowing over a landscape.\n",
    "This water can infiltrate into the subsurface aquifer, but the thickness of the surface water layer likewise can't go negative."
   ]
  },
  {
   "cell_type": "code",
   "execution_count": null,
   "id": "850aae2c-e9f5-4640-bcb0-5bfc974ce2cf",
   "metadata": {},
   "outputs": [],
   "source": [
    "volumes = [firedrake.assemble(ϕ * dx) for ϕ in ϕs]\n",
    "fig, ax = plt.subplots()\n",
    "ax.plot(volumes);"
   ]
  }
 ],
 "metadata": {
  "kernelspec": {
   "display_name": "firedrake",
   "language": "python",
   "name": "firedrake"
  },
  "language_info": {
   "codemirror_mode": {
    "name": "ipython",
    "version": 3
   },
   "file_extension": ".py",
   "mimetype": "text/x-python",
   "name": "python",
   "nbconvert_exporter": "python",
   "pygments_lexer": "ipython3",
   "version": "3.11.5"
  }
 },
 "nbformat": 4,
 "nbformat_minor": 5
}
