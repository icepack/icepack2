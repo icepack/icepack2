{
 "cells": [
  {
   "cell_type": "code",
   "execution_count": null,
   "id": "e78b3acb-a2af-4354-a5d6-c66d6c2f87c0",
   "metadata": {},
   "outputs": [],
   "source": [
    "import subprocess\n",
    "import matplotlib.pyplot as plt\n",
    "import numpy as np\n",
    "from numpy import pi as π\n",
    "import tqdm\n",
    "import pygmsh\n",
    "import firedrake\n",
    "from firedrake import (\n",
    "    inner,\n",
    "    grad,\n",
    "    dx,\n",
    "    ds,\n",
    "    derivative,\n",
    "    NonlinearVariationalProblem,\n",
    "    NonlinearVariationalSolver,\n",
    ")\n",
    "import irksome\n",
    "from icepack2 import model, solvers\n",
    "from icepack2.constants import (\n",
    "    glen_flow_law as n, gravity as g, ice_density as ρ_I, water_density as ρ_W\n",
    ")"
   ]
  },
  {
   "cell_type": "code",
   "execution_count": null,
   "id": "f5f65b40-566d-4194-91c4-66b6bd8d14d0",
   "metadata": {},
   "outputs": [],
   "source": [
    "with firedrake.CheckpointFile(\"gibbous.h5\", \"r\") as chk:\n",
    "    mesh = chk.load_mesh()\n",
    "    h = chk.load_function(mesh, \"thickness\")\n",
    "    u = chk.load_function(mesh, \"velocity\")\n",
    "    M = chk.load_function(mesh, \"stress\")\n",
    "\n",
    "Q = h.function_space()\n",
    "V = u.function_space()\n",
    "Σ = M.function_space()\n",
    "\n",
    "Z = V * Σ\n",
    "z = firedrake.Function(Z)\n",
    "z.sub(0).assign(u)\n",
    "z.sub(1).assign(M);"
   ]
  },
  {
   "cell_type": "code",
   "execution_count": null,
   "id": "20c53d5a-8ad5-4303-8ffe-dafa4ef60ce2",
   "metadata": {},
   "outputs": [],
   "source": [
    "R = 200e3\n",
    "\n",
    "inlet_angles = π * np.array([-3 / 4, -1 / 2, -1 / 3, -1 / 6])\n",
    "inlet_widths = π * np.array([1 / 8, 1 / 12, 1 / 24, 1 / 12])\n",
    "\n",
    "x = firedrake.SpatialCoordinate(mesh)\n",
    "\n",
    "u_in = 300\n",
    "h_in = 350\n",
    "hb = 100\n",
    "dh, du = 400, 250\n",
    "\n",
    "hs, us = [], []\n",
    "for θ, ϕ in zip(inlet_angles, inlet_widths):\n",
    "    x0 = R * firedrake.as_vector((np.cos(θ), np.sin(θ)))\n",
    "    v = -firedrake.as_vector((np.cos(θ), np.sin(θ)))\n",
    "    L = inner(x - x0, v)\n",
    "    W = x - x0 - L * v\n",
    "    Rn = 2 * ϕ / π * R\n",
    "    q = firedrake.max_value(1 - (W / Rn) ** 2, 0)\n",
    "    hs.append(hb + q * ((h_in - hb) - dh * L / R))\n",
    "    us.append(firedrake.exp(-4 * (W / R) ** 2) * (u_in + du * L / R) * v)\n",
    "\n",
    "h_expr = firedrake.Constant(hb)\n",
    "for h_ in hs:\n",
    "    h_expr = firedrake.max_value(h_, h_expr)\n",
    "\n",
    "u_expr = sum(us)\n",
    "\n",
    "h0 = firedrake.Function(Q).interpolate(h_expr)\n",
    "u0 = firedrake.Function(V).interpolate(u_expr)"
   ]
  },
  {
   "cell_type": "code",
   "execution_count": null,
   "id": "56116cd8-352f-4322-a89d-d71e509a66d1",
   "metadata": {},
   "outputs": [],
   "source": [
    "ε_c = firedrake.Constant(0.01)\n",
    "τ_c = firedrake.Constant(0.1)\n",
    "\n",
    "u, M = firedrake.split(z)\n",
    "fields = {\n",
    "    \"velocity\": u,\n",
    "    \"membrane_stress\": M,\n",
    "    \"thickness\": h,\n",
    "}\n",
    "\n",
    "fns = [model.viscous_power, model.ice_shelf_momentum_balance]\n",
    "\n",
    "rheology = {\n",
    "    \"flow_law_exponent\": n,\n",
    "    \"flow_law_coefficient\": ε_c / τ_c ** n,\n",
    "}\n",
    "\n",
    "L = sum(fn(**fields, **rheology) for fn in fns)\n",
    "F = derivative(L, z)"
   ]
  },
  {
   "cell_type": "code",
   "execution_count": null,
   "id": "96d6b455-36c6-4148-b8c8-eca614b3f91d",
   "metadata": {},
   "outputs": [],
   "source": [
    "h_min = firedrake.Constant(0.1)\n",
    "rfields = {\n",
    "    \"velocity\": u,\n",
    "    \"membrane_stress\": M,\n",
    "    \"thickness\": firedrake.max_value(h_min, h),\n",
    "}\n",
    "\n",
    "L_r = sum(fn(**rfields, **rheology) for fn in fns)\n",
    "F_r = derivative(L_r, z)\n",
    "H_r = derivative(F_r, z)"
   ]
  },
  {
   "cell_type": "code",
   "execution_count": null,
   "id": "548fa0cf-a6b3-4dd4-9694-8ec7e9ae9ed5",
   "metadata": {},
   "outputs": [],
   "source": [
    "prognostic_problem = model.mass_balance(\n",
    "    thickness=h,\n",
    "    velocity=u,\n",
    "    accumulation=firedrake.Constant(0.0),\n",
    "    thickness_inflow=h0,\n",
    "    test_function=firedrake.TestFunction(Q),\n",
    ")\n",
    "\n",
    "final_time = 400.0\n",
    "num_steps = 400\n",
    "\n",
    "dt = firedrake.Constant(final_time / num_steps)\n",
    "t = firedrake.Constant(0.0)\n",
    "method = irksome.BackwardEuler()\n",
    "prognostic_params = {\n",
    "    \"solver_parameters\": {\n",
    "        \"snes_type\": \"ksponly\",\n",
    "        \"ksp_type\": \"gmres\",\n",
    "        \"pc_type\": \"bjacobi\",\n",
    "    },\n",
    "}\n",
    "prognostic_solver = irksome.TimeStepper(\n",
    "    prognostic_problem, method, t, dt, h, **prognostic_params\n",
    ")"
   ]
  },
  {
   "cell_type": "code",
   "execution_count": null,
   "id": "3cb3873f-04c7-4b9e-b318-fbdbdeb9f64a",
   "metadata": {},
   "outputs": [],
   "source": [
    "bc = firedrake.DirichletBC(Z.sub(0), firedrake.Constant((0, 0)), (1,))\n",
    "problem = solvers.ConstrainedOptimizationProblem(L, z, H=H_r, bcs=bc)\n",
    "diagnostic_solver = solvers.NewtonSolver(problem, tolerance=1e-4)"
   ]
  },
  {
   "cell_type": "code",
   "execution_count": null,
   "id": "e25e3962-745c-4168-9391-2f2244db8ef0",
   "metadata": {},
   "outputs": [],
   "source": [
    "residuals = [diagnostic_solver.solve()]"
   ]
  },
  {
   "cell_type": "code",
   "execution_count": null,
   "id": "b223a4c3-7fd9-4976-94cf-86d97f54a08d",
   "metadata": {},
   "outputs": [],
   "source": [
    "radius = firedrake.Constant(60e3)\n",
    "y = firedrake.Constant((0.0, radius))\n",
    "mask = firedrake.conditional(inner(x - y, x - y) < radius**2, 0.0, 1.0)"
   ]
  },
  {
   "cell_type": "code",
   "execution_count": null,
   "id": "4c8c168a-0842-4699-8680-7cef7caef899",
   "metadata": {},
   "outputs": [],
   "source": [
    "calving_frequency = 24.0\n",
    "time_since_calving = 0.0\n",
    "\n",
    "for step in tqdm.trange(num_steps):\n",
    "    prognostic_solver.advance()\n",
    "\n",
    "    if time_since_calving > calving_frequency:\n",
    "        h.interpolate(mask * h)\n",
    "        time_since_calving = 0.0\n",
    "    time_since_calving += float(dt)\n",
    "    h.interpolate(firedrake.max_value(0, h))\n",
    "\n",
    "    residuals.append(diagnostic_solver.solve())"
   ]
  },
  {
   "cell_type": "code",
   "execution_count": null,
   "id": "557ae6ff-af76-4692-a701-2193d02f7ea0",
   "metadata": {},
   "outputs": [],
   "source": [
    "ts = np.linspace(0, final_time, num_steps + 1)\n",
    "fig, ax = plt.subplots()\n",
    "ax.bar(ts, [len(r) for r in residuals]);"
   ]
  }
 ],
 "metadata": {
  "kernelspec": {
   "display_name": "firedrake",
   "language": "python",
   "name": "firedrake"
  },
  "language_info": {
   "codemirror_mode": {
    "name": "ipython",
    "version": 3
   },
   "file_extension": ".py",
   "mimetype": "text/x-python",
   "name": "python",
   "nbconvert_exporter": "python",
   "pygments_lexer": "ipython3",
   "version": "3.11.5"
  }
 },
 "nbformat": 4,
 "nbformat_minor": 5
}
