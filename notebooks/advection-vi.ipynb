{
 "cells": [
  {
   "cell_type": "markdown",
   "id": "42c9346e-e9a7-45be-8129-1528bc5b0984",
   "metadata": {},
   "source": [
    "In this notebook, we'll show a bit behind the scenes about how to solve partial differential equations that have a positivity constraint.\n",
    "We'll start with the simplest problem we can get our hands on -- advection of a scalar field $\\phi$ in a constant velocity $u$.\n",
    "The variational form of this problem is that, for all test functions $u$,\n",
    "$$\\int_\\Omega\\left(\\partial_t\\phi\\cdot\\psi - \\phi u \\cdot\\nabla\\psi - a\\cdot\\phi\\right)\\; dx = 0$$\n",
    "for all scalar test functions $\\psi$.\n",
    "Here $a$ is the accumulation/ablation function.\n",
    "\n",
    "The unusual feature that we'd like to show here is how to impose also an additional constraint $\\phi \\ge 0$.\n",
    "Inequality constraints like this one show up in real applications very often.\n",
    "For example, when simulating the flow of glaciers or surface water runoff, we require that the ice or water film thickness is positive.\n",
    "There might be ablation (negative values of a) even where the solution is already 0 and, if not addressed at all, this will lead to unphysical negative values.\n",
    "The blunt way of dealing with this problem is to clamp the solution from below, but this introduces a conservation error.\n",
    "Instead, we can think of the PDE as a *complementarity problem* and use the appropriate methods."
   ]
  },
  {
   "cell_type": "code",
   "execution_count": null,
   "id": "544863ef-7027-4527-8a60-55a908437e52",
   "metadata": {
    "tags": []
   },
   "outputs": [],
   "source": [
    "import numpy as np\n",
    "from numpy import pi as π\n",
    "import matplotlib.pyplot as plt\n",
    "from matplotlib.animation import FuncAnimation\n",
    "from IPython.display import HTML\n",
    "from tqdm.notebook import tqdm, trange\n",
    "import firedrake\n",
    "from firedrake import inner, grad, dx, ds, max_value, Constant\n",
    "import irksome\n",
    "from irksome import Dt"
   ]
  },
  {
   "cell_type": "markdown",
   "id": "cb65fd47-46ba-4bbc-8d49-4ca217b35da8",
   "metadata": {},
   "source": [
    "Most of the existing work on solving PDEs with positivity constraints assume that we're using low-order basis functions -- piecewise constant or linear.\n",
    "Low-order basis functions are nice because we can tell if the function is positive just by looking at whether its coefficients are positive.\n",
    "\n",
    "We'd like to try using piecewise quadratic or higher order basis functions.\n",
    "However, if we use the usual Lagrange finite element basis, there is no relation between positivity of the coefficients in this basis and positivity of the function itself.\n",
    "Instead, we'll use the basis of Bernstein polynomials.\n",
    "If the coefficients of a function in the Bernstein basis are positive, then the function is positive.\n",
    "The converse is not necessarily true -- there are positive functions that have some negative Bernstein coefficients -- but they eventually have all-positive coefficients on mesh refinement."
   ]
  },
  {
   "cell_type": "code",
   "execution_count": null,
   "id": "fc5fad61-1cb9-42ec-9940-a69a950314a2",
   "metadata": {
    "tags": []
   },
   "outputs": [],
   "source": [
    "num_levels = 5\n",
    "mesh = firedrake.UnitDiskMesh(num_levels)\n",
    "Q = firedrake.FunctionSpace(mesh, \"Bernstein\", 2)"
   ]
  },
  {
   "cell_type": "markdown",
   "id": "0940ee4c-5767-42b4-ab97-65ad0d7ce971",
   "metadata": {},
   "source": [
    "For a velocity field, we'll use uniform solid-body rotation."
   ]
  },
  {
   "cell_type": "code",
   "execution_count": null,
   "id": "2d57b4eb-a09a-4dca-8613-b88bf6422a11",
   "metadata": {
    "tags": []
   },
   "outputs": [],
   "source": [
    "x = firedrake.SpatialCoordinate(mesh)\n",
    "u = firedrake.as_vector((-x[1], x[0]))"
   ]
  },
  {
   "cell_type": "markdown",
   "id": "f51dfe83-4c4b-4ce6-ba90-94e9b148e030",
   "metadata": {},
   "source": [
    "As initial data, we'll consider a spherical blip of radius 1/3 centered at the point (0.5, 0.0)."
   ]
  },
  {
   "cell_type": "code",
   "execution_count": null,
   "id": "18133fa0-051f-416b-9d79-4c4f19174f03",
   "metadata": {
    "tags": []
   },
   "outputs": [],
   "source": [
    "ξ = Constant((0.5, 0.0))\n",
    "r = Constant(1 / 3)\n",
    "expr = max_value(0, 1 - inner(x - ξ, x - ξ) / r**2)\n",
    "ϕ = firedrake.project(expr, Q)"
   ]
  },
  {
   "cell_type": "code",
   "execution_count": null,
   "id": "6007b63f-433a-40a9-b039-79acf24f65d8",
   "metadata": {
    "tags": []
   },
   "outputs": [],
   "source": [
    "fig, ax = plt.subplots()\n",
    "ax.set_aspect(\"equal\")\n",
    "colors = firedrake.tripcolor(ϕ, axes=ax)\n",
    "fig.colorbar(colors);"
   ]
  },
  {
   "cell_type": "markdown",
   "id": "919358ed-e538-42c1-874c-c775b4dbd4ff",
   "metadata": {},
   "source": [
    "The sink term will be a spherical blob of radius 1/6 centered at the point (-0.5, 0).\n",
    "We've chosen a rapid rate of ablation but a small radius so that part of the solution is zeroed out."
   ]
  },
  {
   "cell_type": "code",
   "execution_count": null,
   "id": "ae062579-ee6a-46d9-97f6-523d81aad248",
   "metadata": {
    "tags": []
   },
   "outputs": [],
   "source": [
    "a_0 = Constant(10.0)\n",
    "ζ = Constant((-0.5, 0.0))\n",
    "ρ = Constant(1 / 6)\n",
    "expr = -a_0 * max_value(0, 1 - inner(x - ζ, x - ζ) / ρ**2)\n",
    "a = firedrake.project(expr, Q)"
   ]
  },
  {
   "cell_type": "markdown",
   "id": "e0dc7b59-df18-4256-99cf-01dfaf256426",
   "metadata": {},
   "source": [
    "We'll do a dirty hack here to make sure the forcing function is strictly negative."
   ]
  },
  {
   "cell_type": "code",
   "execution_count": null,
   "id": "c8d81065-cdd5-4f75-9877-6d26ca6f777f",
   "metadata": {},
   "outputs": [],
   "source": [
    "a.dat.data[:] = np.minimum(a.dat.data_ro, 0.0)"
   ]
  },
  {
   "cell_type": "code",
   "execution_count": null,
   "id": "d5e80d90-c806-4a8c-ac59-ae1a1a6ca235",
   "metadata": {},
   "outputs": [],
   "source": [
    "fig, ax = plt.subplots()\n",
    "ax.set_aspect(\"equal\")\n",
    "colors = firedrake.tripcolor(a, axes=ax)\n",
    "fig.colorbar(colors);"
   ]
  },
  {
   "cell_type": "markdown",
   "id": "3196784b-30bd-488e-909b-e4a8e790139a",
   "metadata": {},
   "source": [
    "Create the variational form of the advection equation."
   ]
  },
  {
   "cell_type": "code",
   "execution_count": null,
   "id": "d5c08756-21ab-402a-91c4-2fe889e8011d",
   "metadata": {
    "tags": []
   },
   "outputs": [],
   "source": [
    "ψ = firedrake.TestFunction(Q)\n",
    "F = (Dt(ϕ) * ψ - inner(ϕ * u, grad(ψ)) - a * ψ) * dx"
   ]
  },
  {
   "cell_type": "markdown",
   "id": "4a162f58-36b4-40ec-9b58-569768b7e825",
   "metadata": {},
   "source": [
    "Now we'll create a timestepping scheme.\n",
    "First, we need to pick the timestep and the number of steps to use."
   ]
  },
  {
   "cell_type": "code",
   "execution_count": null,
   "id": "5a2e2db0-259e-4ac6-b410-dfec3217f22d",
   "metadata": {
    "tags": []
   },
   "outputs": [],
   "source": [
    "t = Constant(0.0)\n",
    "num_steps = 512\n",
    "dt = Constant(2 * π / num_steps)"
   ]
  },
  {
   "cell_type": "markdown",
   "id": "4badd630-dd87-4a47-883c-865fe16e64dc",
   "metadata": {},
   "source": [
    "Now the interesting part.\n",
    "We first need to create two functions representing the upper and lower bounds the solution can take."
   ]
  },
  {
   "cell_type": "code",
   "execution_count": null,
   "id": "66be3395-6f23-4178-b3c1-541afce4d1f8",
   "metadata": {},
   "outputs": [],
   "source": [
    "lower = firedrake.Function(Q)\n",
    "upper = firedrake.Function(Q)\n",
    "upper.assign(+np.inf)\n",
    "bounds = (\"stage\", lower, upper)"
   ]
  },
  {
   "cell_type": "markdown",
   "id": "27393a59-e5ca-4269-891c-0a3d2d931a75",
   "metadata": {},
   "source": [
    "Then we need to tell Irksome that we're solving a bounds-constrained problem.\n",
    "First, we need to use PETSc's [VINEWTONRSLS](https://petsc.org/release/manualpages/SNES/SNESVINEWTONRSLS/) solver.\n",
    "It is the only PETSc solver that can handle nonlinear systems with inequality constraints.\n",
    "We need to specify that we're using the stage-value form, rather than the stage-derivative form, of Runge Kutta methods.\n",
    "We're using the Bernstein basis in time instead of the Lagrange basis.\n",
    "Finally, we add the bounds constraints themselves."
   ]
  },
  {
   "cell_type": "code",
   "execution_count": null,
   "id": "dfc1b716-4b70-4410-b1d1-1a089115b9b9",
   "metadata": {},
   "outputs": [],
   "source": [
    "params = {\n",
    "    \"solver_parameters\": {\"snes_type\": \"vinewtonrsls\"},\n",
    "    \"stage_type\": \"value\",\n",
    "    \"basis_type\": \"Bernstein\",\n",
    "    \"bounds\": bounds,\n",
    "}"
   ]
  },
  {
   "cell_type": "markdown",
   "id": "b26aafcf-e501-4212-b0d9-e395e0331547",
   "metadata": {},
   "source": [
    "Now we'll create a time stepper object.\n",
    "Here we're using the Radau-IIA(2) scheme, which is 3rd-order in time.\n",
    "The Radau-IIA(2) scheme is based on using a quadratic collocation polynomial in time.\n",
    "Maintaining positivity with higher-order collocation polynomials is very new."
   ]
  },
  {
   "cell_type": "code",
   "execution_count": null,
   "id": "a724a51d-600e-4bd5-b86e-ced3f9f958a1",
   "metadata": {},
   "outputs": [],
   "source": [
    "method = irksome.RadauIIA(2)\n",
    "solver = irksome.TimeStepper(F, method, t, dt, ϕ, **params)"
   ]
  },
  {
   "cell_type": "markdown",
   "id": "f61e231a-de34-4333-9ce2-0bf37d4367de",
   "metadata": {},
   "source": [
    "Solve the problem forward in time."
   ]
  },
  {
   "cell_type": "code",
   "execution_count": null,
   "id": "2eb8642f-ce51-4a57-bfdb-42810c9f5987",
   "metadata": {
    "tags": []
   },
   "outputs": [],
   "source": [
    "ϕs = [ϕ.copy(deepcopy=True)]\n",
    "\n",
    "for step in trange(num_steps):\n",
    "    solver.advance()\n",
    "    t.assign(float(t) + float(dt))\n",
    "    ϕs.append(ϕ.copy(deepcopy=True))"
   ]
  },
  {
   "cell_type": "markdown",
   "id": "357c9e61-1f04-4e58-ad4f-2adfeff03418",
   "metadata": {},
   "source": [
    "Make an animation of the solution."
   ]
  },
  {
   "cell_type": "code",
   "execution_count": null,
   "id": "09bb280b-f897-4776-bfb6-732cff3a0148",
   "metadata": {},
   "outputs": [],
   "source": [
    "%%capture\n",
    "fig, ax = plt.subplots()\n",
    "ax.set_aspect(\"equal\")\n",
    "colors = firedrake.tripcolor(\n",
    "    ϕs[0], vmin=0.0, vmax=1.0, num_sample_points=4, axes=ax\n",
    ")\n",
    "\n",
    "fn_plotter = firedrake.FunctionPlotter(mesh, num_sample_points=4)\n",
    "def animate(ϕ):\n",
    "    colors.set_array(fn_plotter(ϕ))"
   ]
  },
  {
   "cell_type": "code",
   "execution_count": null,
   "id": "33b4543e-b16c-4f8a-9679-a3c26a1249c8",
   "metadata": {},
   "outputs": [],
   "source": [
    "interval = 1e3 * 20 / num_steps\n",
    "animation = FuncAnimation(fig, animate, frames=tqdm(ϕs), interval=interval)"
   ]
  },
  {
   "cell_type": "code",
   "execution_count": null,
   "id": "0da8a8c3-7fb0-46ac-8eb2-d08e850838f1",
   "metadata": {
    "tags": []
   },
   "outputs": [],
   "source": [
    "HTML(animation.to_html5_video())"
   ]
  },
  {
   "cell_type": "markdown",
   "id": "7c19734f-3269-4493-a772-d5a612bca2ea",
   "metadata": {},
   "source": [
    "Half-way through the simulation, the initial blob advects into the sink.\n",
    "But by posing the problem as a variational inequality, we can make sure the solution does not go negative.\n",
    "In the movie you might notice that the solution develops some oscillations, which is undesirable.\n",
    "Later we'll show how to get rid of those by using a discontinuous Galerkin discretization.\n",
    "\n",
    "To finish things off, let's look at the total mass in the system to see if there are any appreciable conservation errors."
   ]
  },
  {
   "cell_type": "code",
   "execution_count": null,
   "id": "7dccba13-8bd1-42ff-9e71-79fb6dc85d18",
   "metadata": {},
   "outputs": [],
   "source": [
    "volumes = [firedrake.assemble(ϕ * dx) for ϕ in ϕs]\n",
    "fig, ax = plt.subplots()\n",
    "ax.plot(volumes);"
   ]
  },
  {
   "cell_type": "markdown",
   "id": "821b1375-a436-4f3c-9298-336042dddebc",
   "metadata": {},
   "source": [
    "We can see that there is a small spurious source -- a relative mass gain of less than 1\\% -- before the solution hits the sink."
   ]
  },
  {
   "cell_type": "code",
   "execution_count": null,
   "id": "d7848d5f-1438-4a5e-b2f0-5953d393cb7a",
   "metadata": {},
   "outputs": [],
   "source": [
    "(volumes[150] - volumes[0]) / volumes[0]"
   ]
  }
 ],
 "metadata": {
  "kernelspec": {
   "display_name": "firedrake",
   "language": "python",
   "name": "firedrake"
  },
  "language_info": {
   "codemirror_mode": {
    "name": "ipython",
    "version": 3
   },
   "file_extension": ".py",
   "mimetype": "text/x-python",
   "name": "python",
   "nbconvert_exporter": "python",
   "pygments_lexer": "ipython3",
   "version": "3.12.8"
  }
 },
 "nbformat": 4,
 "nbformat_minor": 5
}
