{
 "cells": [
  {
   "cell_type": "code",
   "execution_count": null,
   "id": "3dcfdfac-a166-4a18-9bf3-85ee9adcd459",
   "metadata": {},
   "outputs": [],
   "source": [
    "import subprocess\n",
    "import numpy as np\n",
    "from numpy import pi as π\n",
    "import matplotlib.pyplot as plt"
   ]
  },
  {
   "cell_type": "markdown",
   "id": "765f6bb4-09bf-45a6-b9cc-18309cac8531",
   "metadata": {},
   "source": [
    "Create the starting file discretizing the circle."
   ]
  },
  {
   "cell_type": "code",
   "execution_count": null,
   "id": "e8649184-708f-42c2-93b3-3796daca66af",
   "metadata": {},
   "outputs": [],
   "source": [
    "num_points = 64\n",
    "θs = np.linspace(0, 2 * π, num_points + 1)[:-1]\n",
    "xs = np.column_stack((np.cos(θs), np.sin(θs)))\n",
    "\n",
    "initial_filename = \"disk_initial.mesh\"\n",
    "with open(initial_filename, \"w\") as initial_file:\n",
    "    initial_file.write(\"MeshVersionFormatted 2\\n\")\n",
    "    initial_file.write(\"Dimension 2\\n\")\n",
    "    initial_file.write(\"Vertices\\n\")\n",
    "    initial_file.write(f\"{num_points}\\n\")\n",
    "    for x in xs:\n",
    "        initial_file.write(f\"  {x[0]} {x[1]} 0\\n\")\n",
    "\n",
    "    initial_file.write(\"\\nEdges\\n\")\n",
    "    initial_file.write(f\"{num_points}\\n\")\n",
    "    for index in range(num_points):\n",
    "        initial_file.write(f\"  {index + 1} {(index + 1) % num_points + 1} 0\\n\")\n",
    "\n",
    "    initial_file.write(\"End\\n\")"
   ]
  },
  {
   "cell_type": "markdown",
   "id": "43e12ca2-7f93-4fe7-9f26-c2320d27eb7e",
   "metadata": {},
   "source": [
    "Generate an initial isotropic mesh."
   ]
  },
  {
   "cell_type": "code",
   "execution_count": null,
   "id": "e9c30e80-8194-45e2-955e-94e0f7703547",
   "metadata": {},
   "outputs": [],
   "source": [
    "mmg_exec_path = \"/home/daniel/programs/mmg/build/bin/mmg2d_O3\"\n",
    "iso_mesh_filename = \"disk_isotropic.mesh\"\n",
    "hmax = 2 * π / num_points\n",
    "args = [\n",
    "    mmg_exec_path,\n",
    "    \"-in\",\n",
    "    initial_filename,\n",
    "    \"-out\",\n",
    "    iso_mesh_filename,\n",
    "    \"-hmax\",\n",
    "    str(hmax),\n",
    "    \"-v\",\n",
    "    \"0\",\n",
    "]\n",
    "subprocess.run(args)"
   ]
  },
  {
   "cell_type": "markdown",
   "id": "f7dd79b6-523b-4550-a7af-7d19bac81dfd",
   "metadata": {},
   "source": [
    "Some code to read in .mesh files."
   ]
  },
  {
   "cell_type": "code",
   "execution_count": null,
   "id": "df1ad4bb-6cd4-4a0f-be9d-bf477af578b4",
   "metadata": {},
   "outputs": [],
   "source": [
    "def read_mesh_file(mesh_file):\n",
    "    lines = mesh_file.readlines()\n",
    "    line_number = [\"Vertices\" in line for line in lines].index(True) + 1\n",
    "    num_vertices = int(lines[line_number])\n",
    "    points = np.zeros((num_vertices, 2))\n",
    "    vertex_lines = lines[line_number + 1: line_number + num_vertices + 1]\n",
    "    for index, line in enumerate(vertex_lines):\n",
    "        points[index, :] = [float(val) for val in line.split(\" \")[:2]]\n",
    "\n",
    "    line_number = [\"Triangles\" in line for line in lines].index(True) + 1\n",
    "    num_triangles = int(lines[line_number])\n",
    "    triangles = np.zeros((num_triangles, 3), dtype=int)\n",
    "    triangle_lines = lines[line_number + 1: line_number + num_triangles + 1]\n",
    "    for index, line in enumerate(triangle_lines):\n",
    "        triangles[index, :] = [int(val) for val in line.split(\" \")[:3]]\n",
    "\n",
    "    return points, triangles - 1"
   ]
  },
  {
   "cell_type": "markdown",
   "id": "becbb89a-6a8a-4322-821b-d0d786394621",
   "metadata": {},
   "source": [
    "Read in the isotropic mesh and plot it."
   ]
  },
  {
   "cell_type": "code",
   "execution_count": null,
   "id": "01c6de67-37e8-45ab-aa16-834647ffca6b",
   "metadata": {},
   "outputs": [],
   "source": [
    "with open(iso_mesh_filename, \"r\") as iso_mesh_file:\n",
    "    points, triangles = read_mesh_file(iso_mesh_file)"
   ]
  },
  {
   "cell_type": "code",
   "execution_count": null,
   "id": "1dbece25-a734-4aa3-8ade-8baa621c462c",
   "metadata": {},
   "outputs": [],
   "source": [
    "fig, ax = plt.subplots()\n",
    "ax.set_aspect(\"equal\")\n",
    "ax.triplot(*points.T, triangles=triangles);"
   ]
  },
  {
   "cell_type": "markdown",
   "id": "d73bebac-1574-4551-8319-4618bbe93b19",
   "metadata": {},
   "source": [
    "Create the metric."
   ]
  },
  {
   "cell_type": "code",
   "execution_count": null,
   "id": "1e9a04c3-6ac7-40e4-b741-a0030244a4b3",
   "metadata": {},
   "outputs": [],
   "source": [
    "metric = np.zeros((len(points), 3))\n",
    "I = np.eye(2)\n",
    "r_1 = 0.2\n",
    "r_2 = 0.01\n",
    "ϵ = r_1\n",
    "for index, x in enumerate(points):\n",
    "    M = I / r_1**2 + np.outer(x, x) / (r_2 **2 * (np.dot(x, x) + ϵ**2))\n",
    "    metric[index, :] = (M[0, 0], M[0, 1], M[1, 1])"
   ]
  },
  {
   "cell_type": "markdown",
   "id": "ea567a84-7295-449a-a7d6-6e6cb82f7b8d",
   "metadata": {},
   "source": [
    "Write the metric to a .sol file."
   ]
  },
  {
   "cell_type": "code",
   "execution_count": null,
   "id": "485223a9-3265-4597-ab63-94cbfcd8f301",
   "metadata": {},
   "outputs": [],
   "source": [
    "metric_filename = \"disk_metric.sol\"\n",
    "with open(metric_filename, \"w\") as metric_file:\n",
    "    metric_file.write(\"MeshVersionFormatted 2\\n\")\n",
    "    metric_file.write(\"Dimension 2\\n\")\n",
    "    metric_file.write(\"SolAtVertices\\n\")\n",
    "    metric_file.write(f\"{len(points)}\\n\") \n",
    "    metric_file.write(\"1 3\\n\")\n",
    "    for m in metric:\n",
    "        metric_file.write(f\"{m[0]} {m[1]} {m[2]}\\n\")\n",
    "    metric_file.write(\"End\")"
   ]
  },
  {
   "cell_type": "code",
   "execution_count": null,
   "id": "ae8c5ed0-0209-40ee-aeb6-ec8dcbf45fb5",
   "metadata": {},
   "outputs": [],
   "source": [
    "aniso_mesh_filename = \"disk_anisotropic.mesh\"\n",
    "args = [\n",
    "    mmg_exec_path,\n",
    "    \"-in\",\n",
    "    iso_mesh_filename,\n",
    "    \"-met\",\n",
    "    metric_filename,\n",
    "    \"-out\",\n",
    "    aniso_mesh_filename,\n",
    "    \"-v\",\n",
    "    \"0\",\n",
    "]\n",
    "subprocess.run(args)"
   ]
  },
  {
   "cell_type": "code",
   "execution_count": null,
   "id": "46dae4a2-9349-419b-b399-5770b8e9ceaf",
   "metadata": {},
   "outputs": [],
   "source": [
    "with open(aniso_mesh_filename, \"r\") as aniso_mesh_file:\n",
    "    apoints, atriangles = read_mesh_file(aniso_mesh_file)"
   ]
  },
  {
   "cell_type": "code",
   "execution_count": null,
   "id": "e08ea50b-4d52-47fa-aa6e-b0968f8e6069",
   "metadata": {},
   "outputs": [],
   "source": [
    "fig, ax = plt.subplots()\n",
    "ax.set_aspect(\"equal\")\n",
    "plt.triplot(*apoints.T, triangles=atriangles, linewidth=0.5);"
   ]
  }
 ],
 "metadata": {
  "kernelspec": {
   "display_name": "firedrake",
   "language": "python",
   "name": "firedrake"
  },
  "language_info": {
   "codemirror_mode": {
    "name": "ipython",
    "version": 3
   },
   "file_extension": ".py",
   "mimetype": "text/x-python",
   "name": "python",
   "nbconvert_exporter": "python",
   "pygments_lexer": "ipython3",
   "version": "3.12.8"
  }
 },
 "nbformat": 4,
 "nbformat_minor": 5
}
