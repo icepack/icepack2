{
 "cells": [
  {
   "cell_type": "code",
   "execution_count": null,
   "id": "2bbcb16d-d444-46d3-810a-ab79194a91eb",
   "metadata": {},
   "outputs": [],
   "source": [
    "from tqdm.notebook import trange\n",
    "import numpy as np\n",
    "from numpy import pi as π\n",
    "import matplotlib.pyplot as plt\n",
    "import firedrake\n",
    "from firedrake import inner, grad, dx, ds, exp, min_value, max_value, Constant, derivative\n",
    "import irksome\n",
    "import icepack\n",
    "from icepack2 import model"
   ]
  },
  {
   "cell_type": "markdown",
   "id": "3ed26c06-ea87-4688-9761-e98e5b26684d",
   "metadata": {},
   "source": [
    "## Geometry and elevation\n",
    "\n",
    "This notebook will demonstrate how to use the dual momentum balance model to simulate the evolution of a synthetic mountain glacier.\n",
    "We'll start with a completely artificial initial glacier thickness, and then we'll spin it up to steady state.\n",
    "The overall bed geometry is meant to mimic some of the features of Mt. Rainier in Washington State, but we'll produce a smaller glacier.\n",
    "For many measurements, see [this volume](http://npshistory.com/publications/mora/glaciers-1963.pdf) from 1963, edited by Mark Meier and featuring many contributions by Austin Post.\n",
    "\n",
    "Mt. Rainier has a circumference of about 150km, which works out to a radius of about 25km.\n",
    "We'll use a computational domain about half that size."
   ]
  },
  {
   "cell_type": "code",
   "execution_count": null,
   "id": "f4ed4de3-bfb5-4f7f-bfba-52fc0e913f8c",
   "metadata": {},
   "outputs": [],
   "source": [
    "radius = Constant(12e3)\n",
    "mesh = firedrake.UnitDiskMesh(4)\n",
    "mesh.coordinates.dat.data[:] *= float(radius)"
   ]
  },
  {
   "cell_type": "markdown",
   "id": "55e5e816-7f40-435e-aa22-78051037a76b",
   "metadata": {},
   "source": [
    "Next, we'll create some function spaces.\n",
    "We'll use continuous linear finite elements for the basal elevation and discontinuous linear elements for the thickness.\n",
    "In general, solving the mass balance equation for ice thickness tends to work much better with discontinuous elements."
   ]
  },
  {
   "cell_type": "code",
   "execution_count": null,
   "id": "94cbe500-16ff-4824-b873-d94427a23278",
   "metadata": {},
   "outputs": [],
   "source": [
    "cg1 = firedrake.FiniteElement(\"CG\", \"triangle\", 1)\n",
    "S = firedrake.FunctionSpace(mesh, cg1)\n",
    "dg1 = firedrake.FiniteElement(\"DG\", \"triangle\", 1)\n",
    "Q = firedrake.FunctionSpace(mesh, dg1)"
   ]
  },
  {
   "cell_type": "markdown",
   "id": "c3d0b834-dbca-4b2b-9533-44125ce72c71",
   "metadata": {},
   "source": [
    "Mt. Rainier is about 4km high.\n",
    "We'll use a bed topography of the form $B\\exp(-|x|^2/r^2)$, although this is actually a little unrealistic."
   ]
  },
  {
   "cell_type": "code",
   "execution_count": null,
   "id": "58d11b38-22fb-4db3-bcf9-f989817715c2",
   "metadata": {},
   "outputs": [],
   "source": [
    "x = firedrake.SpatialCoordinate(mesh)\n",
    "\n",
    "B = Constant(4e3)\n",
    "r_b = Constant(150e3 / (2 * π))\n",
    "expr = B * exp(-inner(x, x) / r_b**2)\n",
    "b = firedrake.Function(S).interpolate(expr)"
   ]
  },
  {
   "cell_type": "code",
   "execution_count": null,
   "id": "24945f29-c8d5-4a0e-84f0-9253dd1d2067",
   "metadata": {},
   "outputs": [],
   "source": [
    "fig, ax = plt.subplots()\n",
    "ax.set_aspect(\"equal\")\n",
    "ax.set_title(\"Bed elevation\")\n",
    "colors = firedrake.tripcolor(b, axes=ax)\n",
    "firedrake.tricontour(b, levels=[1600.0, 2100.0], colors=\"black\", axes=ax)\n",
    "fig.colorbar(colors);"
   ]
  },
  {
   "cell_type": "markdown",
   "id": "799ff14c-f764-46eb-842c-8034f6c7476f",
   "metadata": {},
   "source": [
    "According to Meier and Post, at 1600m elevation, the surface mass balance is about -8.7 m/yr of water equivalent, and the equilibrium line altitude (where surface mass balance is zero) is at about 2100m elevation, and that the SMB must average about 0.7 m/yr above the ELA for the glacier to be in balance.\n",
    "We'll use these as rough guidelines; trying to be too exact about it gives an accumulation field with a really dramatic change near the ELA that results in generalized numerical mayhem.\n",
    "When we define the SMB field, we clamp the values at the top and bottom in order to avoid producing unrealistic values.\n",
    "Not also how we have to convert one of the SMB values from meters of water equivalent to meters of ice equivalent by multiplying by 0.917."
   ]
  },
  {
   "cell_type": "code",
   "execution_count": null,
   "id": "eaeced4e-119f-4e85-a038-f7ef03964648",
   "metadata": {},
   "outputs": [],
   "source": [
    "z_measured = Constant(1600.0)\n",
    "a_measured = Constant(-0.917 * 8.7)\n",
    "a_top = Constant(0.7)\n",
    "z_top = Constant(4e3)\n",
    "δa_δz = (a_top - a_measured) / (z_top - z_measured)\n",
    "a_max = Constant(0.7)\n",
    "\n",
    "def smb(z):\n",
    "    return min_value(a_max, a_measured + δa_δz * (z - z_measured))"
   ]
  },
  {
   "cell_type": "markdown",
   "id": "cf4ccb68-c028-4a97-9479-caf99ea467b9",
   "metadata": {},
   "source": [
    "We'll start with a very artificial initial guess for the thickness and evolve it toward equilibrium."
   ]
  },
  {
   "cell_type": "code",
   "execution_count": null,
   "id": "e49e504f-ac00-4c7e-a055-ffe1cd84b054",
   "metadata": {},
   "outputs": [],
   "source": [
    "r_h = Constant(5e3)\n",
    "H = Constant(100.0)\n",
    "expr = H * firedrake.max_value(0, 1 - inner(x, x) / r_h**2)\n",
    "h = firedrake.Function(Q).interpolate(expr)\n",
    "h_0 = h.copy(deepcopy=True)"
   ]
  },
  {
   "cell_type": "code",
   "execution_count": null,
   "id": "16e78f35-2127-467b-91ff-abfa23addde1",
   "metadata": {},
   "outputs": [],
   "source": [
    "fig, ax = plt.subplots()\n",
    "ax.set_aspect(\"equal\")\n",
    "colors = firedrake.tripcolor(h, axes=ax)\n",
    "fig.colorbar(colors);"
   ]
  },
  {
   "cell_type": "markdown",
   "id": "ea593b0b-c5f1-4d2a-a70a-f8537ab35167",
   "metadata": {},
   "source": [
    "We can then compute the initial surface elevation and mass balance."
   ]
  },
  {
   "cell_type": "code",
   "execution_count": null,
   "id": "0641ac14-e8e1-496b-9ffd-e376c7ae3974",
   "metadata": {},
   "outputs": [],
   "source": [
    "s = firedrake.Function(Q).interpolate(b + h)\n",
    "a = firedrake.Function(Q).interpolate(smb(s))"
   ]
  },
  {
   "cell_type": "code",
   "execution_count": null,
   "id": "4ec0e6ba-bff9-4493-88cc-cd9a88505224",
   "metadata": {},
   "outputs": [],
   "source": [
    "fig, ax = plt.subplots()\n",
    "ax.set_aspect(\"equal\")\n",
    "colors = firedrake.tripcolor(a, vmin=-0.7, axes=ax)\n",
    "fig.colorbar(colors);"
   ]
  },
  {
   "cell_type": "markdown",
   "id": "4b97c83c-e389-43ab-bdad-c0e194c1380b",
   "metadata": {},
   "source": [
    "## Initial velocity computation\n",
    "\n",
    "In order to calculate the material properties of the glacier, we'll assume that it's roughly temperate, which isn't too far off from the truth."
   ]
  },
  {
   "cell_type": "code",
   "execution_count": null,
   "id": "e3b0b711-e898-4760-b326-807afae85a56",
   "metadata": {},
   "outputs": [],
   "source": [
    "from icepack2.constants import gravity, ice_density, glen_flow_law\n",
    "A = icepack.rate_factor(Constant(273.15))"
   ]
  },
  {
   "cell_type": "markdown",
   "id": "bec1a763-ab01-4f63-ae93-d92f0ce0ef2a",
   "metadata": {},
   "source": [
    "We'll use the shallow ice approximation, which diagnoses the velocity at a point in a purely local fashion using the thickness and surface slope, to initialize the ice velocity."
   ]
  },
  {
   "cell_type": "code",
   "execution_count": null,
   "id": "1ec09854-3b85-43d0-84f9-6959508d4865",
   "metadata": {},
   "outputs": [],
   "source": [
    "V = firedrake.VectorFunctionSpace(mesh, cg1)\n",
    "\n",
    "u = firedrake.Function(V)\n",
    "v = firedrake.TestFunction(V)\n",
    "\n",
    "ρ_I = Constant(ice_density)\n",
    "g = Constant(gravity)\n",
    "n = Constant(glen_flow_law)\n",
    "\n",
    "P = ρ_I * g * h\n",
    "S_n = inner(grad(s), grad(s))**((n - 1) / 2)\n",
    "u_shear = -2 * A * P ** n / (n + 2) * h * S_n * grad(s)\n",
    "F = inner(u - u_shear, v) * dx\n",
    "\n",
    "solver_params = {\"snes_type\": \"ksponly\", \"ksp_type\": \"gmres\"}\n",
    "fc_params = {\"quadrature_degree\": 6}\n",
    "params = {\"solver_parameters\": solver_params, \"form_compiler_parameters\": fc_params}\n",
    "firedrake.solve(F == 0, u, **params)"
   ]
  },
  {
   "cell_type": "code",
   "execution_count": null,
   "id": "5a32887c-dcd3-4aae-844e-1a6c70b183db",
   "metadata": {},
   "outputs": [],
   "source": [
    "fig, ax = plt.subplots()\n",
    "ax.set_aspect(\"equal\")\n",
    "colors = firedrake.tripcolor(u, axes=ax)\n",
    "fig.colorbar(colors);"
   ]
  },
  {
   "cell_type": "markdown",
   "id": "9a900c91-a77f-4d7a-86e3-9c014512e3b9",
   "metadata": {},
   "source": [
    "Now we'll get to the real modeling.\n",
    "To proceed, we have to make function spaces to represent the membrane and basal stresses and create a variable that stores the velocity and stresses.\n",
    "Here we use piecewise constant finite elements for the stresses.\n",
    "In general, if you use $CG(k)$ elements for the velocity, you need to use $DG(k - 1)$ elements for the stresses."
   ]
  },
  {
   "cell_type": "code",
   "execution_count": null,
   "id": "db935250-689e-4ca7-aee5-c5b0f212c4d4",
   "metadata": {},
   "outputs": [],
   "source": [
    "dg0 = firedrake.FiniteElement(\"DG\", \"triangle\", 0)\n",
    "Σ = firedrake.TensorFunctionSpace(mesh, dg0, symmetry=True)\n",
    "T = firedrake.VectorFunctionSpace(mesh, cg1)\n",
    "Z = V * Σ * T\n",
    "z = firedrake.Function(Z)\n",
    "\n",
    "z.sub(0).assign(u);"
   ]
  },
  {
   "cell_type": "markdown",
   "id": "1d649590-0970-42c5-9fa2-52d8bb325dbf",
   "metadata": {},
   "source": [
    "This is a subtle but important point.\n",
    "But we'll also want to regularize the momentum balance model a bit by pretending as if it were linear.\n",
    "We chose some value of the ice fluidity $A$, which is fine, but remember that $A$ has units of strain rate $\\times$ stress${}^{-n}$ where $n \\approx 3$ is the Glen flow law exponent.\n",
    "If we only change $n$ to 1 in the parts of the equation determining the constitutive relation but do nothing to $A$, the physical units that we use in the regularization will make no sense.\n",
    "So what we do below is pick some arbitrary stress scale $\\tau_c$, which here I'm taking to be 0.1 MPa or 100 kPa.\n",
    "We're then choosing a strain rate scale $\\dot\\varepsilon_c$ so that $A = \\dot\\varepsilon_c \\cdot\\tau_c^{-n}$.\n",
    "If we want to pretend like ice flow were linear, we could produce the right constitutive relation by then using the flow law coefficient $A' = \\dot\\varepsilon_c\\cdot\\tau_c^{-1}$ and all the units would make sense."
   ]
  },
  {
   "cell_type": "code",
   "execution_count": null,
   "id": "cc16a5dd-3c51-453f-938c-895dd0963051",
   "metadata": {},
   "outputs": [],
   "source": [
    "τ_c = Constant(0.1)\n",
    "ε_c = Constant(A * τ_c ** n)"
   ]
  },
  {
   "cell_type": "markdown",
   "id": "b16d9a32-7b64-4ce9-aa1e-cf38e900765e",
   "metadata": {},
   "source": [
    "Now we're at the really important part.\n",
    "To make the SSA model effectively do SIA, what we need is that, in the sliding law\n",
    "$$K|\\tau|^{m - 1}\\tau = -u,$$\n",
    "we take\n",
    "$$K = \\frac{hA}{n + 2}.$$\n",
    "Now in order to make our regularization approach work, we also define the sliding coefficient as\n",
    "$$K = u_c / \\tau_c^m$$\n",
    "where $\\tau_c$ is a reference stress and $u_c$ a reference speed.\n",
    "We're using the same reference stress for the flow and sliding laws of $\\tau_c = $ 100 kPa, so we can then compute the reference speed as $u_c = K\\tau_c^m$.\n",
    "We can then add more sliding on top of the effective deformation that we use to mimic SIA.\n",
    "To add some extra real sliding, we've increased the critical speed $u_c$ by a factor of 100 m/yr."
   ]
  },
  {
   "cell_type": "code",
   "execution_count": null,
   "id": "1b9a1932-e82b-45ac-a353-07c6d0f2ab67",
   "metadata": {},
   "outputs": [],
   "source": [
    "K = h * A / (n + 2)\n",
    "U_c = Constant(100.0)\n",
    "u_c = K * τ_c ** n + U_c"
   ]
  },
  {
   "cell_type": "code",
   "execution_count": null,
   "id": "f4bbe65a-e7ee-41e7-9742-9feda268c3cc",
   "metadata": {},
   "outputs": [],
   "source": [
    "rheology = {\n",
    "    \"flow_law_exponent\": n,\n",
    "    \"flow_law_coefficient\": ε_c / τ_c ** n,\n",
    "    \"sliding_exponent\": n,\n",
    "    \"sliding_coefficient\": u_c / τ_c ** n,\n",
    "}\n",
    "\n",
    "u, M, τ = firedrake.split(z)\n",
    "fields = {\n",
    "    \"velocity\": u,\n",
    "    \"membrane_stress\": M,\n",
    "    \"basal_stress\": τ,\n",
    "    \"thickness\": h,\n",
    "    \"surface\": s,\n",
    "}\n",
    "\n",
    "v, N, σ = firedrake.TestFunctions(Z)\n",
    "\n",
    "fns = [\n",
    "    (model.variational.flow_law, N),\n",
    "    (model.variational.friction_law, σ),\n",
    "    (model.variational.momentum_balance, v),\n",
    "]"
   ]
  },
  {
   "cell_type": "markdown",
   "id": "cc318cb8-1f36-4f8c-b0fd-7e1dc4d1ab50",
   "metadata": {},
   "source": [
    "Now we'll create the parameters that we need for the solver, including what quadrature degree and solution strategy to use."
   ]
  },
  {
   "cell_type": "code",
   "execution_count": null,
   "id": "d414edbf-be45-4e0e-99f5-86562ec7303e",
   "metadata": {},
   "outputs": [],
   "source": [
    "degree = 1\n",
    "qdegree = max(8, degree ** glen_flow_law)\n",
    "pparams = {\"form_compiler_parameters\": {\"quadrature_degree\": qdegree}}\n",
    "\n",
    "sparams = {\n",
    "    \"solver_parameters\": {\n",
    "        \"snes_monitor\": \":rainier-output-monolothic.txt\",\n",
    "        \"snes_type\": \"newtonls\",\n",
    "        \"snes_max_it\": 200,\n",
    "        \"snes_linesearch_type\": \"nleqerr\",\n",
    "        \"ksp_type\": \"gmres\",\n",
    "        \"pc_type\": \"lu\",\n",
    "        \"pc_factor_mat_solver_type\": \"mumps\",\n",
    "    },\n",
    "}"
   ]
  },
  {
   "cell_type": "markdown",
   "id": "4d91d056-05ff-4abb-a702-c1683b6a3718",
   "metadata": {},
   "source": [
    "First, we'll do an initial solve with a linear rheology.\n",
    "Then we'll gradually step the flow law exponent from 1.0 up to 3.0."
   ]
  },
  {
   "cell_type": "code",
   "execution_count": null,
   "id": "a1042066-7992-4d32-8a1d-62a006a2de11",
   "metadata": {},
   "outputs": [],
   "source": [
    "terms = [fn(**fields, **rheology, test_function=ϕ) for fn, ϕ in fns]\n",
    "terms[0] = firedrake.replace(terms[0], {h: H})\n",
    "F = sum(terms)\n",
    "momentum_problem = firedrake.NonlinearVariationalProblem(F, z, **pparams)\n",
    "momentum_solver = firedrake.NonlinearVariationalSolver(momentum_problem, **sparams)"
   ]
  },
  {
   "cell_type": "markdown",
   "id": "35f45cb5-f7b2-40d7-aced-514de7a1f8dc",
   "metadata": {},
   "source": [
    "Now we can see our initial value of the velocity.\n",
    "Note how it's a different magnitude but similar shape to the SIA velocity."
   ]
  },
  {
   "cell_type": "code",
   "execution_count": null,
   "id": "4040c1bb-a861-4697-b91b-f3ffc7ef04d9",
   "metadata": {},
   "outputs": [],
   "source": [
    "num_continuation_steps = 5\n",
    "for exponent in np.linspace(1.0, 3.0, num_continuation_steps):\n",
    "    n.assign(exponent)\n",
    "    momentum_solver.solve()"
   ]
  },
  {
   "cell_type": "code",
   "execution_count": null,
   "id": "7ad3c01b-2f76-48f7-a2d2-297c136ddca0",
   "metadata": {},
   "outputs": [],
   "source": [
    "u_init, M_init, τ_init = z.subfunctions\n",
    "\n",
    "fig, axes = plt.subplots()\n",
    "axes.set_aspect(\"equal\")\n",
    "colors = firedrake.tripcolor(u_init, axes=axes)\n",
    "fig.colorbar(colors);"
   ]
  },
  {
   "cell_type": "markdown",
   "id": "ee900d6a-845a-4274-a58b-eba0bf60df4e",
   "metadata": {},
   "source": [
    "## Forward modeling\n",
    "\n",
    "Let's zoom in and look at where the ELA falls."
   ]
  },
  {
   "cell_type": "code",
   "execution_count": null,
   "id": "f5010542-3587-4bb8-9063-853a07e37449",
   "metadata": {},
   "outputs": [],
   "source": [
    "fig, axes = plt.subplots()\n",
    "axes.set_aspect(\"equal\")\n",
    "axes.set_xlim((0, 10e3))\n",
    "axes.set_ylim((0, 10e3))\n",
    "colors = firedrake.tripcolor(u_init, axes=axes)\n",
    "firedrake.triplot(mesh, axes=axes)\n",
    "firedrake.tricontour(a, levels=[0, 1], colors=\"tab:orange\", axes=axes)\n",
    "fig.colorbar(colors);"
   ]
  },
  {
   "cell_type": "markdown",
   "id": "ff2e1193-815c-4c33-92a7-915f908e58fb",
   "metadata": {},
   "source": [
    "Now make an even bigger function space, God help us all.\n",
    "Pack in the initial values of the velocity, membrane stress, and basal stress that we computed before."
   ]
  },
  {
   "cell_type": "code",
   "execution_count": null,
   "id": "873be577-b14f-4f6a-bd69-fbe9a6cc2f34",
   "metadata": {},
   "outputs": [],
   "source": [
    "W = V * Σ * T * Q\n",
    "w = firedrake.Function(W)\n",
    "w.sub(0).assign(u_init)\n",
    "w.sub(1).assign(M_init)\n",
    "w.sub(2).assign(τ_init)\n",
    "w.sub(3).assign(h);"
   ]
  },
  {
   "cell_type": "markdown",
   "id": "0573021d-eade-4e73-b8b1-563c56da95aa",
   "metadata": {},
   "source": [
    "Next, form the momentum balance equation again."
   ]
  },
  {
   "cell_type": "code",
   "execution_count": null,
   "id": "42ab17c7-fb17-45c5-8fd4-85ef85eb8fa6",
   "metadata": {},
   "outputs": [],
   "source": [
    "u, M, τ, h = firedrake.split(w)\n",
    "v, N, σ, η = firedrake.TestFunctions(W)\n",
    "\n",
    "fns = [\n",
    "    (model.variational.flow_law, N),\n",
    "    (model.variational.friction_law, σ),\n",
    "    (model.variational.momentum_balance, v),\n",
    "]\n",
    "\n",
    "fields = {\n",
    "    \"velocity\": u,\n",
    "    \"membrane_stress\": M,\n",
    "    \"basal_stress\": τ,\n",
    "    \"thickness\": h,\n",
    "    \"surface\": s,\n",
    "}\n",
    "\n",
    "terms = [fn(**fields, **rheology, test_function=ϕ) for fn, ϕ in fns]\n",
    "terms[0] = firedrake.replace(terms[0], {h: H})\n",
    "F_momentum = sum(terms)\n",
    "F_mass = model.mass_balance(thickness=h, velocity=u, accumulation=a, test_function=η)\n",
    "\n",
    "F = F_momentum + F_mass"
   ]
  },
  {
   "cell_type": "code",
   "execution_count": null,
   "id": "838cbb65-00dc-4b41-a5f1-ae7d669fbbce",
   "metadata": {},
   "outputs": [],
   "source": [
    "tableau = irksome.BackwardEuler()\n",
    "t = Constant(0.0)\n",
    "dt = Constant(1.0 / 12)\n",
    "solver = irksome.TimeStepper(F, tableau, t, dt, w, **sparams)"
   ]
  },
  {
   "cell_type": "markdown",
   "id": "52525e1f-b2d0-41e2-9d10-4f49e33c2648",
   "metadata": {},
   "source": [
    "The good part: run the model for 500 years of simulation time."
   ]
  },
  {
   "cell_type": "code",
   "execution_count": null,
   "id": "e4892bde-6369-453d-9503-12ee491a537c",
   "metadata": {},
   "outputs": [],
   "source": [
    "us = [w.subfunctions[0].copy(deepcopy=True)]\n",
    "hs = [w.subfunctions[3].copy(deepcopy=True)]\n",
    "\n",
    "final_time = 500.0\n",
    "num_steps = int(final_time / float(dt))\n",
    "for step in trange(num_steps):\n",
    "    solver.advance()\n",
    "    h = w.subfunctions[3]\n",
    "    w.subfunctions[3].interpolate(max_value(0, h))\n",
    "    s.interpolate(b + h)\n",
    "    a.interpolate(smb(s))\n",
    "\n",
    "    us.append(w.subfunctions[0].copy(deepcopy=True))\n",
    "    hs.append(w.subfunctions[3].copy(deepcopy=True))"
   ]
  },
  {
   "cell_type": "markdown",
   "id": "4f7d8b7f-7c77-42d1-9659-b82f8b5e36d7",
   "metadata": {},
   "source": [
    "Now let's make a movie of the evolution towards steady state.\n",
    "The contour shows the final value of the ELA."
   ]
  },
  {
   "cell_type": "code",
   "execution_count": null,
   "id": "5fe150c8-9c1e-436f-92ff-bebbec068a25",
   "metadata": {},
   "outputs": [],
   "source": [
    "fig, axes = plt.subplots()\n",
    "axes.set_aspect(\"equal\")\n",
    "axes.set_xlim((0, 10e3))\n",
    "axes.set_ylim((0, 10e3))\n",
    "colors = firedrake.tripcolor(hs[-1], num_sample_points=1, shading=\"flat\", axes=axes)\n",
    "firedrake.triplot(mesh, axes=axes)\n",
    "firedrake.tricontour(a, levels=[0, 1], colors=\"tab:orange\", axes=axes)\n",
    "fig.colorbar(colors);"
   ]
  },
  {
   "cell_type": "code",
   "execution_count": null,
   "id": "f01a49bf-f4c5-41b4-b5fc-3d76deaa55fe",
   "metadata": {},
   "outputs": [],
   "source": [
    "u, M, τ = z.subfunctions\n",
    "\n",
    "fig, axes = plt.subplots()\n",
    "axes.set_aspect(\"equal\")\n",
    "axes.set_xlim((0, 10e3))\n",
    "axes.set_ylim((0, 10e3))\n",
    "colors = firedrake.tripcolor(us[-1], num_sample_points=1, shading=\"flat\", axes=axes)\n",
    "firedrake.triplot(mesh, axes=axes)\n",
    "firedrake.tricontour(a, levels=[0, 1], colors=\"tab:orange\", axes=axes)\n",
    "fig.colorbar(colors);"
   ]
  },
  {
   "cell_type": "code",
   "execution_count": null,
   "id": "3c778fd1-203e-4a13-a532-19d0639d3da1",
   "metadata": {},
   "outputs": [],
   "source": [
    "%%capture\n",
    "\n",
    "from matplotlib.animation import FuncAnimation\n",
    "\n",
    "fig, axes = plt.subplots()\n",
    "axes.set_aspect(\"equal\")\n",
    "axes.set_xlim((0, 10e3))\n",
    "axes.set_ylim((0, 10e3))\n",
    "colors = firedrake.tripcolor(hs[0], vmax=130.0, num_sample_points=4, axes=axes)\n",
    "fig.colorbar(colors)\n",
    "\n",
    "fn_plotter = firedrake.FunctionPlotter(mesh, num_sample_points=4)\n",
    "def animate(h):\n",
    "    colors.set_array(fn_plotter(h))\n",
    "\n",
    "animation = FuncAnimation(fig, animate, hs, interval=1e3/60)"
   ]
  },
  {
   "cell_type": "code",
   "execution_count": null,
   "id": "c639e838-6305-4dc7-9760-c4c92b193e0a",
   "metadata": {},
   "outputs": [],
   "source": [
    "from IPython.display import HTML\n",
    "HTML(animation.to_html5_video())"
   ]
  }
 ],
 "metadata": {
  "kernelspec": {
   "display_name": "firedrake",
   "language": "python",
   "name": "firedrake"
  },
  "language_info": {
   "codemirror_mode": {
    "name": "ipython",
    "version": 3
   },
   "file_extension": ".py",
   "mimetype": "text/x-python",
   "name": "python",
   "nbconvert_exporter": "python",
   "pygments_lexer": "ipython3",
   "version": "3.11.9"
  }
 },
 "nbformat": 4,
 "nbformat_minor": 5
}
