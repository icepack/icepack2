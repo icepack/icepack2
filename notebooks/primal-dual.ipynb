{
 "cells": [
  {
   "cell_type": "code",
   "execution_count": null,
   "id": "2c7fa90f-dd7c-4e04-bd09-211fdc71f481",
   "metadata": {},
   "outputs": [],
   "source": [
    "import subprocess\n",
    "import matplotlib.pyplot as plt\n",
    "import numpy as np\n",
    "from numpy import pi as π\n",
    "import tqdm\n",
    "import pygmsh\n",
    "import firedrake\n",
    "from firedrake import (\n",
    "    inner,\n",
    "    grad,\n",
    "    dx,\n",
    "    ds,\n",
    "    derivative,\n",
    "    NonlinearVariationalProblem,\n",
    "    NonlinearVariationalSolver,\n",
    ")\n",
    "import irksome\n",
    "from icepack2 import model, solvers\n",
    "from icepack2.constants import glen_flow_law as n"
   ]
  },
  {
   "cell_type": "markdown",
   "id": "35099b4c-a607-4623-a2fe-420005e7cb5c",
   "metadata": {},
   "source": [
    "Create the initial geometry."
   ]
  },
  {
   "cell_type": "code",
   "execution_count": null,
   "id": "19400533-afe5-4522-b8a3-03f855a7b622",
   "metadata": {},
   "outputs": [],
   "source": [
    "R = 200e3\n",
    "δx = 5e3\n",
    "\n",
    "geometry = pygmsh.built_in.Geometry()\n",
    "\n",
    "x1 = geometry.add_point([-R, 0, 0], lcar=δx)\n",
    "x2 = geometry.add_point([+R, 0, 0], lcar=δx)\n",
    "\n",
    "center1 = geometry.add_point([0, 0, 0], lcar=δx)\n",
    "center2 = geometry.add_point([0, -4 * R, 0], lcar=δx)\n",
    "\n",
    "arcs = [\n",
    "    geometry.add_circle_arc(x1, center1, x2),\n",
    "    geometry.add_circle_arc(x2, center2, x1),\n",
    "]\n",
    "\n",
    "line_loop = geometry.add_line_loop(arcs)\n",
    "plane_surface = geometry.add_plane_surface(line_loop)\n",
    "\n",
    "physical_lines = [geometry.add_physical(arc) for arc in arcs]\n",
    "physical_surface = geometry.add_physical(plane_surface)\n",
    "\n",
    "with open(\"ice-shelf.geo\", \"w\") as geo_file:\n",
    "    geo_file.write(geometry.get_code())\n",
    "\n",
    "command = \"gmsh -2 -format msh2 -v 0 -o ice-shelf.msh ice-shelf.geo\"\n",
    "subprocess.run(command.split())\n",
    "\n",
    "mesh = firedrake.Mesh(\"ice-shelf.msh\")"
   ]
  },
  {
   "cell_type": "markdown",
   "id": "ca09a741-b29d-4078-a75d-dde5137b624f",
   "metadata": {},
   "source": [
    "Make the initial thickness and velocity fields."
   ]
  },
  {
   "cell_type": "code",
   "execution_count": null,
   "id": "1fa7fd76-c621-4690-a2ba-1c36d6b1c3a0",
   "metadata": {},
   "outputs": [],
   "source": [
    "inlet_angles = π * np.array([-3 / 4, -1 / 2, -1 / 3, -1 / 6])\n",
    "inlet_widths = π * np.array([1 / 8, 1 / 12, 1 / 24, 1 / 12])\n",
    "\n",
    "x = firedrake.SpatialCoordinate(mesh)\n",
    "\n",
    "u_in = 300\n",
    "h_in = 350\n",
    "hb = 100\n",
    "dh, du = 400, 250\n",
    "\n",
    "hs, us = [], []\n",
    "for θ, ϕ in zip(inlet_angles, inlet_widths):\n",
    "    x0 = R * firedrake.as_vector((np.cos(θ), np.sin(θ)))\n",
    "    v = -firedrake.as_vector((np.cos(θ), np.sin(θ)))\n",
    "    L = inner(x - x0, v)\n",
    "    W = x - x0 - L * v\n",
    "    Rn = 2 * ϕ / π * R\n",
    "    q = firedrake.max_value(1 - (W / Rn) ** 2, 0)\n",
    "    hs.append(hb + q * ((h_in - hb) - dh * L / R))\n",
    "    us.append(firedrake.exp(-4 * (W / R) ** 2) * (u_in + du * L / R) * v)\n",
    "\n",
    "h_expr = firedrake.Constant(hb)\n",
    "for h in hs:\n",
    "    h_expr = firedrake.max_value(h, h_expr)\n",
    "\n",
    "u_expr = sum(us)"
   ]
  },
  {
   "cell_type": "markdown",
   "id": "897d92ab-00af-41a5-a24a-c0d147cc4fb7",
   "metadata": {},
   "source": [
    "Make some function spaces and initialize the solution."
   ]
  },
  {
   "cell_type": "code",
   "execution_count": null,
   "id": "2221cce0-10ae-4db1-95b5-4c2bc55ad1bc",
   "metadata": {},
   "outputs": [],
   "source": [
    "cg = firedrake.FiniteElement(\"CG\", \"triangle\", 1)\n",
    "dg0 = firedrake.FiniteElement(\"DG\", \"triangle\", 0)\n",
    "dg1 = firedrake.FiniteElement(\"DG\", \"triangle\", 1)\n",
    "Q = firedrake.FunctionSpace(mesh, dg1)\n",
    "V = firedrake.VectorFunctionSpace(mesh, cg)\n",
    "Σ = firedrake.TensorFunctionSpace(mesh, dg0, symmetry=True)\n",
    "Z = V * Σ\n",
    "\n",
    "h0 = firedrake.Function(Q).interpolate(h_expr)\n",
    "u0 = firedrake.Function(V).interpolate(u_expr)\n",
    "\n",
    "h = h0.copy(deepcopy=True)\n",
    "z = firedrake.Function(Z)\n",
    "z.sub(0).assign(u0);"
   ]
  },
  {
   "cell_type": "markdown",
   "id": "0363d9d6-37f2-43d8-ba8b-0e0929a9ecc8",
   "metadata": {},
   "source": [
    "Set up the momentum balance equation."
   ]
  },
  {
   "cell_type": "code",
   "execution_count": null,
   "id": "50aef159-c722-4428-b601-18b3a2e435f4",
   "metadata": {},
   "outputs": [],
   "source": [
    "ε_c = firedrake.Constant(0.01)\n",
    "τ_c = firedrake.Constant(0.1)\n",
    "\n",
    "u, M = firedrake.split(z)\n",
    "fields = {\n",
    "    \"velocity\": u,\n",
    "    \"membrane_stress\": M,\n",
    "    \"thickness\": h,\n",
    "}\n",
    "\n",
    "fns = [model.viscous_power, model.ice_shelf_momentum_balance]\n",
    "\n",
    "rheology = {\n",
    "    \"flow_law_exponent\": n,\n",
    "    \"flow_law_coefficient\": ε_c / τ_c ** n,\n",
    "}\n",
    "\n",
    "L = sum(fn(**fields, **rheology) for fn in fns)\n",
    "F = derivative(L, z)"
   ]
  },
  {
   "cell_type": "markdown",
   "id": "ba1a895f-a6fb-4989-9d7c-f4bebdb606e1",
   "metadata": {},
   "source": [
    "Make an initial guess by solving a Picard linearization."
   ]
  },
  {
   "cell_type": "code",
   "execution_count": null,
   "id": "774a4e8e-2edf-4629-a232-34b7d2d2fec2",
   "metadata": {},
   "outputs": [],
   "source": [
    "linear_rheology = {\n",
    "    \"flow_law_exponent\": 1,\n",
    "    \"flow_law_coefficient\": ε_c / τ_c,\n",
    "}\n",
    "\n",
    "L_1 = sum(fn(**fields, **linear_rheology) for fn in fns)\n",
    "F_1 = derivative(L_1, z)\n",
    "\n",
    "qdegree = n + 2\n",
    "bc = firedrake.DirichletBC(Z.sub(0), u0, (1,))\n",
    "problem_params = {\n",
    "    #\"form_compiler_parameters\": {\"quadrature_degree\": qdegree},\n",
    "    \"bcs\": bc,\n",
    "}\n",
    "solver_params = {\n",
    "    \"solver_parameters\": {\n",
    "        \"snes_type\": \"newtonls\",\n",
    "        \"ksp_type\": \"gmres\",\n",
    "        \"pc_type\": \"lu\",\n",
    "        \"pc_factor_mat_solver_type\": \"mumps\",\n",
    "        \"snes_rtol\": 1e-2,\n",
    "    },\n",
    "}\n",
    "firedrake.solve(F_1 == 0, z, **problem_params, **solver_params)"
   ]
  },
  {
   "cell_type": "markdown",
   "id": "2644b319-be24-473d-9e95-dff90130f01d",
   "metadata": {},
   "source": [
    "Now solve the real problem but using a perturbed linearization."
   ]
  },
  {
   "cell_type": "code",
   "execution_count": null,
   "id": "8c6f41c4-d899-473d-b32a-5548afc6048d",
   "metadata": {},
   "outputs": [],
   "source": [
    "h_min = firedrake.Constant(1.0)\n",
    "rfields = {\n",
    "    \"velocity\": u,\n",
    "    \"membrane_stress\": M,\n",
    "    \"thickness\": firedrake.max_value(h_min, h),\n",
    "}\n",
    "\n",
    "L_r = sum(fn(**rfields, **rheology) for fn in fns)\n",
    "F_r = derivative(L_r, z)\n",
    "H_r = derivative(F_r, z)"
   ]
  },
  {
   "cell_type": "code",
   "execution_count": null,
   "id": "144c84a1-5932-4041-bea8-8ddf718ea33d",
   "metadata": {},
   "outputs": [],
   "source": [
    "bc = firedrake.DirichletBC(Z.sub(0), firedrake.Constant((0, 0)), (1,))\n",
    "problem = solvers.ConstrainedOptimizationProblem(L, z, H=H_r, bcs=bc)\n",
    "diagnostic_solver = solvers.NewtonSolver(problem)\n",
    "residuals = [diagnostic_solver.solve()]"
   ]
  },
  {
   "cell_type": "code",
   "execution_count": null,
   "id": "3c1c1843-9f47-4c77-bba1-13a86377fea6",
   "metadata": {},
   "outputs": [],
   "source": [
    "fig, ax = plt.subplots()\n",
    "ax.set_aspect(\"equal\")\n",
    "colors = firedrake.quiver(z.subfunctions[0], axes=ax)\n",
    "fig.colorbar(colors);"
   ]
  },
  {
   "cell_type": "markdown",
   "id": "603ff166-ca8f-46a8-9ec5-2c702ec23ce8",
   "metadata": {},
   "source": [
    "### Simulation\n",
    "\n",
    "Now add the mass balance part of the problem."
   ]
  },
  {
   "cell_type": "code",
   "execution_count": null,
   "id": "756d06fc-2ca9-45b4-a113-31eb67d0eb76",
   "metadata": {},
   "outputs": [],
   "source": [
    "prognostic_problem = model.mass_balance(\n",
    "    thickness=h,\n",
    "    velocity=u,\n",
    "    accumulation=firedrake.Constant(0.0),\n",
    "    thickness_inflow=h0,\n",
    "    test_function=firedrake.TestFunction(Q),\n",
    ")\n",
    "\n",
    "final_time = 400.0\n",
    "num_steps = 400\n",
    "\n",
    "dt = firedrake.Constant(final_time / num_steps)\n",
    "t = firedrake.Constant(0.0)\n",
    "method = irksome.BackwardEuler()\n",
    "prognostic_params = {\n",
    "    \"solver_parameters\": {\n",
    "        \"snes_type\": \"ksponly\",\n",
    "        \"ksp_type\": \"gmres\",\n",
    "        \"pc_type\": \"bjacobi\",\n",
    "    },\n",
    "}\n",
    "prognostic_solver = irksome.TimeStepper(\n",
    "    prognostic_problem, method, t, dt, h, **prognostic_params\n",
    ")"
   ]
  },
  {
   "cell_type": "code",
   "execution_count": null,
   "id": "f986aed1-44dc-48a9-9a07-3246244b946e",
   "metadata": {},
   "outputs": [],
   "source": [
    "for step in tqdm.trange(num_steps):\n",
    "    prognostic_solver.advance()\n",
    "    residuals.append(diagnostic_solver.solve())"
   ]
  },
  {
   "cell_type": "code",
   "execution_count": null,
   "id": "4c4d63a7-fca9-410f-b8ba-72934d662108",
   "metadata": {},
   "outputs": [],
   "source": [
    "fig, ax = plt.subplots()\n",
    "ax.set_aspect(\"equal\")\n",
    "colors = firedrake.tripcolor(h, axes=ax)\n",
    "fig.colorbar(colors);"
   ]
  },
  {
   "cell_type": "code",
   "execution_count": null,
   "id": "99bcfca9-a108-4236-af94-937819bc1270",
   "metadata": {},
   "outputs": [],
   "source": [
    "fig, ax = plt.subplots()\n",
    "ax.plot([len(r) for r in residuals]);"
   ]
  },
  {
   "cell_type": "code",
   "execution_count": null,
   "id": "7dc2e162-60d4-43e6-b71b-efe1d2f0f8fe",
   "metadata": {},
   "outputs": [],
   "source": [
    "u = firedrake.Function(V)\n",
    "M = firedrake.Function(Σ)\n",
    "u.assign(z.subfunctions[0])\n",
    "M.assign(z.subfunctions[1])\n",
    "\n",
    "with firedrake.CheckpointFile(\"gibbous.h5\", \"w\") as chk:\n",
    "    chk.save_mesh(mesh)\n",
    "    chk.save_function(h, name=\"thickness\")\n",
    "    chk.save_function(u, name=\"velocity\")\n",
    "    chk.save_function(M, name=\"stress\")"
   ]
  }
 ],
 "metadata": {
  "kernelspec": {
   "display_name": "firedrake",
   "language": "python",
   "name": "firedrake"
  },
  "language_info": {
   "codemirror_mode": {
    "name": "ipython",
    "version": 3
   },
   "file_extension": ".py",
   "mimetype": "text/x-python",
   "name": "python",
   "nbconvert_exporter": "python",
   "pygments_lexer": "ipython3",
   "version": "3.11.5"
  }
 },
 "nbformat": 4,
 "nbformat_minor": 5
}
