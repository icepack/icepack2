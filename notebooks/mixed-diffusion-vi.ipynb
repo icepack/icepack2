{
 "cells": [
  {
   "cell_type": "markdown",
   "id": "261912d9-b41e-41d3-90aa-9055d45fb63b",
   "metadata": {},
   "source": [
    "### Mathematics\n",
    "\n",
    "In the following, we'll work with the mixed form the of the diffusion equation.\n",
    "The fields we're solving for are the scalar concentration field $\\phi$ and the flux $u$, a vector field.\n",
    "The inputs to the problem are the initial concentration $\\phi|_{t = 0}$, the conductivity $k$, and the sum $f$ of sources and sinks.\n",
    "The variational form of the equation is\n",
    "\n",
    "$$\\int_\\Omega\\left\\{\\left(\\partial_t\\phi + \\nabla\\cdot u\\right)\\psi + \\phi\\nabla\\cdot v - k^{-1}u\\cdot v\\right\\}\\;dx = \\int_\\Omega f\\cdot \\psi\\; dx$$\n",
    "\n",
    "for all test functions $\\psi$, $v$.\n",
    "We will impose one additional constraint: **the concentration is always positive**, i.e. $\\phi \\ge 0$ throughout the entire domain.\n",
    "This makes the problem into a variational inequality or complementarity problem.\n",
    "\n",
    "We'll want to find an exactly solvable instance of this problem in order to check the order of convergence of our numerical solver.\n",
    "The right-hand side will be radially symmetric, with sources near the origin and sinks away from the origin:\n",
    "$$f = \\begin{cases}f_1 (1 - (r / r_1)^2)^2 & r \\le r_1 \\\\ 0 & r_1 < r \\le r_2 \\\\ -f_2(1 - r/r_2)^2 & r_2 < r\\end{cases}$$\n",
    "Where the 0-contour falls will depend on the radii and amplitudes of the sources and sinks as well as the conductivity of the medium.\n",
    "The exact solution will satisfy\n",
    "\n",
    "$$\\phi(r) = c - \\int_0^r\\frac{1}{r'}\\int_0^{r'}k^{-1} r''f(r'')dr''\\;dr'$$"
   ]
  },
  {
   "cell_type": "code",
   "execution_count": null,
   "id": "b3d60a40-2eca-4f62-8ce3-e153cdd3fb73",
   "metadata": {
    "tags": []
   },
   "outputs": [],
   "source": [
    "import sympy\n",
    "\n",
    "r, s, t, r_1, r_2, f_1, f_2 = sympy.symbols(\"r s t r_1 r_2 f_1 f_2\", real=True, positive=True)\n",
    "f = sympy.Piecewise(\n",
    "    (f_1 * (1 - (t / r_1)**2)**2, t <= r_1),\n",
    "    (0, (r_1 < t) & (t <= r_2)),\n",
    "    (-f_2 * (1 - t / r_2)**2, r_2 < t)\n",
    ")"
   ]
  },
  {
   "cell_type": "code",
   "execution_count": null,
   "id": "9a082598-123b-49e1-9583-4767903f1576",
   "metadata": {
    "tags": []
   },
   "outputs": [],
   "source": [
    "g = sympy.integrate(t * f, [t, 0, s])"
   ]
  },
  {
   "cell_type": "code",
   "execution_count": null,
   "id": "2c04a6e3-3763-483a-a17c-ee0576ea5eaf",
   "metadata": {
    "tags": []
   },
   "outputs": [],
   "source": [
    "ϕ = sympy.integrate(g / s, [s, 0, r])"
   ]
  },
  {
   "cell_type": "code",
   "execution_count": null,
   "id": "9beff8e6-65d7-48d0-be92-36390d66ab6c",
   "metadata": {
    "tags": []
   },
   "outputs": [],
   "source": [
    "import numpy as np\n",
    "import matplotlib.pyplot as plt\n",
    "\n",
    "Φ = sympy.lambdify(r, ϕ.subs([(r_1, 1.0), (r_2, 2.0), (f_1, 1.0), (f_2, 1.0)]), modules=\"numpy\")"
   ]
  },
  {
   "cell_type": "code",
   "execution_count": null,
   "id": "0ea64147-e9fb-4567-848f-fb7a13515f90",
   "metadata": {
    "tags": []
   },
   "outputs": [],
   "source": [
    "rs = np.linspace(0.01, 4.0, 101)\n",
    "Φs = np.array([Φ(r) for r in rs])"
   ]
  },
  {
   "cell_type": "code",
   "execution_count": null,
   "id": "7cf4058c-0aad-4281-a1e2-dc3f3ba36895",
   "metadata": {
    "tags": []
   },
   "outputs": [],
   "source": [
    "fig, ax = plt.subplots()\n",
    "ax.plot(rs, Φs);"
   ]
  },
  {
   "cell_type": "markdown",
   "id": "20078ef7-0211-4d7c-979f-8ca50573e9d8",
   "metadata": {},
   "source": [
    "### Numerics\n",
    "\n",
    "Now we'll actually try implementing this using Firedrake."
   ]
  },
  {
   "cell_type": "code",
   "execution_count": null,
   "id": "8b75f567-3604-4f5b-897e-04f8fe7b5508",
   "metadata": {
    "tags": []
   },
   "outputs": [],
   "source": [
    "from numpy import pi as π\n",
    "import matplotlib.pyplot as plt\n",
    "from matplotlib.animation import FuncAnimation\n",
    "from IPython.display import HTML\n",
    "import tqdm\n",
    "import firedrake\n",
    "from firedrake import inner, grad, div, dx, Constant, as_vector\n",
    "import irksome\n",
    "from irksome import Dt"
   ]
  },
  {
   "cell_type": "code",
   "execution_count": null,
   "id": "b5d8c99d-4e15-4db6-b56f-de94b0cd9383",
   "metadata": {
    "tags": []
   },
   "outputs": [],
   "source": [
    "mesh = firedrake.UnitDiskMesh(4)\n",
    "cg = firedrake.FiniteElement(\"Bernstein\", \"triangle\", 2)\n",
    "#cg = firedrake.FiniteElement(\"CG\", \"triangle\", 2)\n",
    "b = firedrake.FiniteElement(\"Bubble\", \"triangle\", 4)\n",
    "Q = firedrake.FunctionSpace(mesh, cg)\n",
    "V = firedrake.VectorFunctionSpace(mesh, cg + b)\n",
    "Z = Q * V"
   ]
  },
  {
   "cell_type": "code",
   "execution_count": null,
   "id": "a343fab4-9701-443b-a231-1e1db241a336",
   "metadata": {},
   "outputs": [],
   "source": [
    "x = firedrake.SpatialCoordinate(mesh)\n",
    "W = firedrake.FunctionSpace(mesh, \"CG\", 2)\n",
    "r = inner(x, x) ** 0.5\n",
    "r_1 = Constant(0.25)\n",
    "a_1 = Constant(1.0)\n",
    "expr = a_1 * firedrake.conditional(r <= r_1, (1 - (r / r_1)**2)**2, 0)\n",
    "f_1 = firedrake.interpolate(expr, W)\n",
    "\n",
    "r_2 = Constant(0.75)\n",
    "a_2 = Constant(2.0)\n",
    "expr = a_2 * firedrake.max_value(0, (r / r_2 - 1))**2\n",
    "f_2 = firedrake.interpolate(expr, W)\n",
    "\n",
    "f = firedrake.interpolate(f_1 - f_2, W)"
   ]
  },
  {
   "cell_type": "code",
   "execution_count": null,
   "id": "3b2d8b8b-f301-4e8f-9543-866f1427feb1",
   "metadata": {
    "tags": []
   },
   "outputs": [],
   "source": [
    "fmax = max(float(a_1), float(a_2))\n",
    "fig, ax = plt.subplots()\n",
    "ax.set_aspect(\"equal\")\n",
    "colors = firedrake.tripcolor(f, vmin=-fmax, vmax=fmax, cmap=\"RdBu_r\", axes=ax)\n",
    "fig.colorbar(colors);"
   ]
  },
  {
   "cell_type": "code",
   "execution_count": null,
   "id": "07a8c9e3-a67f-4210-8d22-fbc415736587",
   "metadata": {
    "tags": []
   },
   "outputs": [],
   "source": [
    "firedrake.assemble(f * dx)"
   ]
  },
  {
   "cell_type": "code",
   "execution_count": null,
   "id": "70c441cb-b29b-48f7-928d-12dac3f44fd1",
   "metadata": {},
   "outputs": [],
   "source": [
    "z = firedrake.Function(Z)\n",
    "ϕ, u = firedrake.split(z)\n",
    "w = firedrake.TestFunction(Z)\n",
    "ψ, v = firedrake.split(w)\n",
    "\n",
    "k = Constant(10.0)\n",
    "F_1 = (Dt(ϕ) + div(u) - f) * ψ * dx\n",
    "F_2 = -(inner(u, v) / k - ϕ * div(v)) * dx\n",
    "F = F_1 + F_2"
   ]
  },
  {
   "cell_type": "code",
   "execution_count": null,
   "id": "75d21a4b-5919-48b4-9bdb-3834aa95fe9c",
   "metadata": {},
   "outputs": [],
   "source": [
    "t = Constant(0.0)\n",
    "dt = Constant(0.01)\n",
    "final_time = 5.0\n",
    "num_steps = int(final_time / float(dt))"
   ]
  },
  {
   "cell_type": "code",
   "execution_count": null,
   "id": "a90a1ce3-8c8d-42d1-80e1-34cb94e0936f",
   "metadata": {},
   "outputs": [],
   "source": [
    "import sia\n",
    "tableau = irksome.RadauIIA(2)\n",
    "bcs = None\n",
    "soln_stages, form = sia.embed(F, z, t, dt, tableau, bcs)"
   ]
  },
  {
   "cell_type": "code",
   "execution_count": null,
   "id": "4b71d031-2922-4aaf-bfd9-c227c405ba5c",
   "metadata": {},
   "outputs": [],
   "source": [
    "problem = firedrake.NonlinearVariationalProblem(form, soln_stages)\n",
    "\n",
    "params = {\n",
    "    \"solver_parameters\": {\n",
    "        \"mat_type\": \"aij\",\n",
    "        \"snes_atol\": 1e-16,\n",
    "        \"snes_type\": \"vinewtonrsls\",\n",
    "        \"ksp_type\": \"gmres\",\n",
    "        \"pc_type\": \"lu\",\n",
    "        \"pc_factor_mat_solver_type\": \"mumps\",\n",
    "    },\n",
    "}\n",
    "solver = firedrake.NonlinearVariationalSolver(problem, **params)"
   ]
  },
  {
   "cell_type": "code",
   "execution_count": null,
   "id": "a7801c58-b5ad-438f-a755-b60fd27ba049",
   "metadata": {},
   "outputs": [],
   "source": [
    "from firedrake.petsc import PETSc\n",
    "\n",
    "upper = firedrake.Function(soln_stages.function_space())\n",
    "with upper.dat.vec as upper_vec:\n",
    "    upper_vec.set(PETSc.INFINITY)\n",
    "\n",
    "lower = firedrake.Function(soln_stages.function_space())\n",
    "with lower.dat.vec as lower_vec:\n",
    "    lower_vec.set(PETSc.NINFINITY)\n",
    "\n",
    "with lower.sub(0).dat.vec as lower_vec:\n",
    "    lower_vec.set(0.0)"
   ]
  },
  {
   "cell_type": "code",
   "execution_count": null,
   "id": "d2a77d0e-2102-438b-b15e-a59de6eac474",
   "metadata": {
    "tags": []
   },
   "outputs": [],
   "source": [
    "ϕs = [firedrake.Function(Q)]\n",
    "\n",
    "for step in tqdm.trange(num_steps):\n",
    "    solver.solve(bounds=(lower, upper))\n",
    "    ϕ = soln_stages.subfunctions[0]\n",
    "    ϕs.append(ϕ.copy(deepcopy=True))"
   ]
  },
  {
   "cell_type": "code",
   "execution_count": null,
   "id": "5be6c1fa-108b-4292-8be7-95b9c730b00d",
   "metadata": {
    "tags": []
   },
   "outputs": [],
   "source": [
    "fig, ax = plt.subplots()\n",
    "ax.set_aspect(\"equal\")\n",
    "colors = firedrake.tripcolor(ϕs[-1], axes=ax)\n",
    "fig.colorbar(colors);"
   ]
  },
  {
   "cell_type": "code",
   "execution_count": null,
   "id": "8becb0cd-1b1b-4433-b22d-d7f1a7b809df",
   "metadata": {
    "tags": []
   },
   "outputs": [],
   "source": [
    "import numpy as np\n",
    "xs = np.linspace(0.0, 1.0, 201)\n",
    "ys = np.zeros_like(xs)\n",
    "X = np.column_stack((xs, ys))\n",
    "samples = ϕs[-1].at(X)"
   ]
  },
  {
   "cell_type": "code",
   "execution_count": null,
   "id": "b6722480-954d-40c6-85fa-492406558cbb",
   "metadata": {
    "tags": []
   },
   "outputs": [],
   "source": [
    "fig, ax = plt.subplots()\n",
    "ax.plot(xs, samples);"
   ]
  }
 ],
 "metadata": {
  "kernelspec": {
   "display_name": "firedrake",
   "language": "python",
   "name": "firedrake"
  },
  "language_info": {
   "codemirror_mode": {
    "name": "ipython",
    "version": 3
   },
   "file_extension": ".py",
   "mimetype": "text/x-python",
   "name": "python",
   "nbconvert_exporter": "python",
   "pygments_lexer": "ipython3",
   "version": "3.11.3"
  }
 },
 "nbformat": 4,
 "nbformat_minor": 5
}
